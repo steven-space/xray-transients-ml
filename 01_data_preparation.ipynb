{
 "cells": [
  {
   "attachments": {},
   "cell_type": "markdown",
   "metadata": {},
   "source": [
    "I. Set Up"
   ]
  },
  {
   "cell_type": "code",
   "execution_count": 25,
   "metadata": {},
   "outputs": [
    {
     "ename": "NameError",
     "evalue": "name 'os' is not defined",
     "output_type": "error",
     "traceback": [
      "\u001b[0;31m---------------------------------------------------------------------------\u001b[0m",
      "\u001b[0;31mNameError\u001b[0m                                 Traceback (most recent call last)",
      "Cell \u001b[0;32mIn[25], line 20\u001b[0m\n\u001b[1;32m     18\u001b[0m \u001b[39m# Specify global path\u001b[39;00m\n\u001b[1;32m     19\u001b[0m global_path \u001b[39m=\u001b[39m \u001b[39m'\u001b[39m\u001b[39m/Users/steven/Library/CloudStorage/OneDrive-ImperialCollegeLondon/01-27-2023 Imperial FYP (Harvard)/4-Data/Datasets\u001b[39m\u001b[39m'\u001b[39m\n\u001b[0;32m---> 20\u001b[0m global_folders \u001b[39m=\u001b[39m list_folders_fun(global_path)\n\u001b[1;32m     22\u001b[0m \u001b[39m# Select dataset\u001b[39;00m\n\u001b[1;32m     23\u001b[0m set_widget \u001b[39m=\u001b[39m widgets\u001b[39m.\u001b[39mDropdown(options\u001b[39m=\u001b[39mglobal_folders[:],value\u001b[39m=\u001b[39mglobal_folders[\u001b[39m1\u001b[39m],description\u001b[39m=\u001b[39m\u001b[39m'\u001b[39m\u001b[39mSet :\u001b[39m\u001b[39m'\u001b[39m,disabled\u001b[39m=\u001b[39m\u001b[39mFalse\u001b[39;00m); set_widget\n",
      "File \u001b[0;32m~/Desktop/xray-transients-ml/pre_ml_functions.py:8\u001b[0m, in \u001b[0;36mlist_folders_fun\u001b[0;34m(path)\u001b[0m\n\u001b[1;32m      2\u001b[0m \u001b[39mdef\u001b[39;00m \u001b[39mlist_folders_fun\u001b[39m(path):\n\u001b[1;32m      3\u001b[0m \u001b[39m    \u001b[39m\u001b[39m\"\"\"\u001b[39;00m\n\u001b[1;32m      4\u001b[0m \u001b[39m    DESCRIPTION: List folders in a given directory.\u001b[39;00m\n\u001b[1;32m      5\u001b[0m \u001b[39m    INPUT: Directory path\u001b[39;00m\n\u001b[1;32m      6\u001b[0m \u001b[39m    OUTPUT: Folder names in a given directory\u001b[39;00m\n\u001b[1;32m      7\u001b[0m \u001b[39m    \"\"\"\u001b[39;00m\n\u001b[0;32m----> 8\u001b[0m     \u001b[39mreturn\u001b[39;00m [f \u001b[39mfor\u001b[39;00m f \u001b[39min\u001b[39;00m os\u001b[39m.\u001b[39mlistdir(path) \u001b[39mif\u001b[39;00m os\u001b[39m.\u001b[39mpath\u001b[39m.\u001b[39misdir(os\u001b[39m.\u001b[39mpath\u001b[39m.\u001b[39mjoin(path, f))]\n",
      "\u001b[0;31mNameError\u001b[0m: name 'os' is not defined"
     ]
    }
   ],
   "source": [
    "# PYTHON Imports \n",
    "import pandas as pd\n",
    "import numpy as np\n",
    "import matplotlib.pyplot as plt\n",
    "from pathlib import Path\n",
    "import glob\n",
    "import ipywidgets as widgets\n",
    "# ASTROPHY Imports\n",
    "import astropy \n",
    "from astropy.table import Table\n",
    "from astropy.io import fits\n",
    "# CIAO Imports\n",
    "import ciao_contrib.runtool\n",
    "from ciao_contrib.runtool import *\n",
    "# CUSTOM Imports\n",
    "from pre_ml_functions import *\n",
    "\n",
    "# Specify global path\n",
    "global_path = '/Users/steven/Library/CloudStorage/OneDrive-ImperialCollegeLondon/01-27-2023 Imperial FYP (Harvard)/4-Data/Datasets'\n",
    "global_folders = list_folders_fun(global_path)\n",
    "\n",
    "# Select dataset\n",
    "set_widget = widgets.Dropdown(options=global_folders[:],value=global_folders[1],description='Set :',disabled=False); set_widget"
   ]
  },
  {
   "cell_type": "code",
   "execution_count": 19,
   "metadata": {},
   "outputs": [
    {
     "ename": "NameError",
     "evalue": "name 'os' is not defined",
     "output_type": "error",
     "traceback": [
      "\u001b[0;31m---------------------------------------------------------------------------\u001b[0m",
      "\u001b[0;31mNameError\u001b[0m                                 Traceback (most recent call last)",
      "Cell \u001b[0;32mIn[19], line 3\u001b[0m\n\u001b[1;32m      1\u001b[0m \u001b[39m# Specify global path\u001b[39;00m\n\u001b[1;32m      2\u001b[0m global_path \u001b[39m=\u001b[39m \u001b[39m'\u001b[39m\u001b[39m/Users/steven/Library/CloudStorage/OneDrive-ImperialCollegeLondon/01-27-2023 Imperial FYP (Harvard)/4-Data/Datasets\u001b[39m\u001b[39m'\u001b[39m\n\u001b[0;32m----> 3\u001b[0m global_folders \u001b[39m=\u001b[39m list_folders_fun(global_path)\n\u001b[1;32m      5\u001b[0m \u001b[39m# Select dataset\u001b[39;00m\n\u001b[1;32m      6\u001b[0m set_widget \u001b[39m=\u001b[39m widgets\u001b[39m.\u001b[39mDropdown(options\u001b[39m=\u001b[39mglobal_folders[:],value\u001b[39m=\u001b[39mglobal_folders[\u001b[39m1\u001b[39m],description\u001b[39m=\u001b[39m\u001b[39m'\u001b[39m\u001b[39mSet :\u001b[39m\u001b[39m'\u001b[39m,disabled\u001b[39m=\u001b[39m\u001b[39mFalse\u001b[39;00m); set_widget\n",
      "File \u001b[0;32m~/Desktop/xray-transients-ml/pre_ml_functions.py:8\u001b[0m, in \u001b[0;36mlist_folders_fun\u001b[0;34m(path)\u001b[0m\n\u001b[1;32m      2\u001b[0m \u001b[39mdef\u001b[39;00m \u001b[39mlist_folders_fun\u001b[39m(path):\n\u001b[1;32m      3\u001b[0m \u001b[39m    \u001b[39m\u001b[39m\"\"\"\u001b[39;00m\n\u001b[1;32m      4\u001b[0m \u001b[39m    DESCRIPTION: List folders in a given directory.\u001b[39;00m\n\u001b[1;32m      5\u001b[0m \u001b[39m    INPUT: Directory path\u001b[39;00m\n\u001b[1;32m      6\u001b[0m \u001b[39m    OUTPUT: Folder names in a given directory\u001b[39;00m\n\u001b[1;32m      7\u001b[0m \u001b[39m    \"\"\"\u001b[39;00m\n\u001b[0;32m----> 8\u001b[0m     \u001b[39mreturn\u001b[39;00m [f \u001b[39mfor\u001b[39;00m f \u001b[39min\u001b[39;00m os\u001b[39m.\u001b[39mlistdir(path) \u001b[39mif\u001b[39;00m os\u001b[39m.\u001b[39mpath\u001b[39m.\u001b[39misdir(os\u001b[39m.\u001b[39mpath\u001b[39m.\u001b[39mjoin(path, f))]\n",
      "\u001b[0;31mNameError\u001b[0m: name 'os' is not defined"
     ]
    }
   ],
   "source": []
  },
  {
   "attachments": {},
   "cell_type": "markdown",
   "metadata": {},
   "source": [
    "II. Select Dataset"
   ]
  },
  {
   "cell_type": "code",
   "execution_count": 28,
   "metadata": {},
   "outputs": [],
   "source": [
    "# Set ID\n",
    "set_id = set_widget.value\n",
    "# Set folder path\n",
    "eventdatapath = f'{global_path}/{set_id}/eventdata/'"
   ]
  },
  {
   "cell_type": "code",
   "execution_count": null,
   "metadata": {},
   "outputs": [],
   "source": [
    "# Load Properties Table\n",
    "df_properties = pd.read_csv(f'{global_path}/Set-{set_id}/properties-{set_id}.csv')\n",
    "# Load Properties Table\n",
    "df_eventfiles = pd.read_csv(f'{global_path}/Set-{set_id}/properties-{set_id}.csv')\n",
    "# Extract important labels and input columns\n",
    "df_properties_input = df_properties[['obsid','region_id','cnts_aper_b','cnts_aperbkg_b','src_cnts_aper_b','flux_aper_b','hard_hm','hard_hs','hard_ms','var_prob_b','var_prob_h','var_prob_m','var_prob_s']]\n",
    "df_eventfiles_input = df_eventfiles[['obsid','region_id','time','energy','chipx','chipy']]\n",
    "# Create unique IDs\n",
    "df_properties_input['obsreg_id'] = df_properties_input['obsid'].astype(str) + '_' + df_properties_input['region_id'].astype(str)\n",
    "df_eventfiles_input['obsreg_id'] = df_eventfiles['obsid'].astype(str) + '_' + df_eventfiles['region_id'].astype(str)\n",
    "# Group data (combined ID)\n",
    "df_properties_input = df_properties_input.drop(columns=['obsid', 'region_id'])\n",
    "df_eventfiles_input = df_eventfiles_input.drop(columns=['obsid', 'region_id'])\n",
    "df_properties_input = df_properties_input.drop(columns=['obsid', 'region_id'])\n",
    "df_eventfiles_input = df_eventfiles_input.drop(columns=['obsid', 'region_id'])\n",
    "\n",
    "\n",
    "print(len(df_properties_input['obsreg_id'].unique()))\n",
    "print(len(df_eventfiles['obsreg_id'].unique()))"
   ]
  }
 ],
 "metadata": {
  "kernelspec": {
   "display_name": "ciao-4.15",
   "language": "python",
   "name": "python3"
  },
  "language_info": {
   "codemirror_mode": {
    "name": "ipython",
    "version": 3
   },
   "file_extension": ".py",
   "mimetype": "text/x-python",
   "name": "python",
   "nbconvert_exporter": "python",
   "pygments_lexer": "ipython3",
   "version": "3.10.9"
  },
  "orig_nbformat": 4,
  "vscode": {
   "interpreter": {
    "hash": "aa0ed6ea5fdefd83fab7eb4cb6966f67b14a46d682529109a8514cc91561ea32"
   }
  }
 },
 "nbformat": 4,
 "nbformat_minor": 2
}
