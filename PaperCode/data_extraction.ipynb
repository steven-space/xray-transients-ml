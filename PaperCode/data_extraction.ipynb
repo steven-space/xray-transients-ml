{
 "cells": [
  {
   "cell_type": "code",
   "execution_count": 1,
   "metadata": {},
   "outputs": [],
   "source": [
    "import ciao_contrib.runtool\n",
    "from ciao_contrib.runtool import *\n",
    "import pandas as pd\n",
    "import numpy as np\n",
    "from numpy import load\n",
    "import astropy \n",
    "from astropy.table import Table\n",
    "from astropy.io import fits\n",
    "import os\n",
    "import glob\n",
    "import matplotlib.pyplot as plt\n",
    "import ipywidgets as widgets\n",
    "from IPython.display import clear_output\n",
    "import os\n",
    "import tarfile\n",
    "import shutil\n",
    "# CUSTOM Imports\n",
    "from data_extraction_functions import *\n",
    "\n",
    "# List Folders Function\n",
    "def list_folders(path):\n",
    "    return [f for f in os.listdir(path) if os.path.isdir(os.path.join(path, f))]\n",
    "\n",
    "#Path\n",
    "global_path = '/Users/steven/Desktop/Paper/'\n",
    "tar_path = global_path + 'tar_files'\n",
    "extract_path = global_path + 'extracted_files'\n"
   ]
  },
  {
   "cell_type": "markdown",
   "metadata": {},
   "source": [
    "1. UNTARRING FILES"
   ]
  },
  {
   "cell_type": "code",
   "execution_count": 2,
   "metadata": {},
   "outputs": [
    {
     "name": "stdout",
     "output_type": "stream",
     "text": [
      "Successfully untarred files from /Users/steven/Desktop/Paper/tar_files/240_250.tar.4_of_5 to /Users/steven/Desktop/Paper/extracted_files/240_250.tar\n",
      "1/337\n",
      "Successfully untarred files from /Users/steven/Desktop/Paper/tar_files/210_220.tar.14_of_14 to /Users/steven/Desktop/Paper/extracted_files/210_220.tar\n",
      "2/337\n",
      "Successfully untarred files from /Users/steven/Desktop/Paper/tar_files/15_20.tar.8_of_13 to /Users/steven/Desktop/Paper/extracted_files/15_20.tar\n",
      "3/337\n",
      "Successfully untarred files from /Users/steven/Desktop/Paper/tar_files/200_205.tar.4_of_10 to /Users/steven/Desktop/Paper/extracted_files/200_205.tar\n",
      "4/337\n",
      "Successfully untarred files from /Users/steven/Desktop/Paper/tar_files/205_210.tar.7_of_8 to /Users/steven/Desktop/Paper/extracted_files/205_210.tar\n",
      "5/337\n",
      "Successfully untarred files from /Users/steven/Desktop/Paper/tar_files/11_15.tar.7_of_12 to /Users/steven/Desktop/Paper/extracted_files/11_15.tar\n",
      "6/337\n"
     ]
    },
    {
     "ename": "KeyboardInterrupt",
     "evalue": "",
     "output_type": "error",
     "traceback": [
      "\u001b[0;31m---------------------------------------------------------------------------\u001b[0m",
      "\u001b[0;31mKeyboardInterrupt\u001b[0m                         Traceback (most recent call last)",
      "\u001b[1;32m/Users/steven/Desktop/xray-transients-ml/PaperCode/data_extraction.ipynb Cell 3\u001b[0m line \u001b[0;36m2\n\u001b[1;32m     <a href='vscode-notebook-cell:/Users/steven/Desktop/xray-transients-ml/PaperCode/data_extraction.ipynb#W2sZmlsZQ%3D%3D?line=21'>22</a>\u001b[0m         \u001b[39mprint\u001b[39m(\u001b[39mf\u001b[39m\u001b[39m'\u001b[39m\u001b[39m{\u001b[39;00mcount\u001b[39m}\u001b[39;00m\u001b[39m/\u001b[39m\u001b[39m{\u001b[39;00mn_files\u001b[39m}\u001b[39;00m\u001b[39m'\u001b[39m)\n\u001b[1;32m     <a href='vscode-notebook-cell:/Users/steven/Desktop/xray-transients-ml/PaperCode/data_extraction.ipynb#W2sZmlsZQ%3D%3D?line=22'>23</a>\u001b[0m     \u001b[39mprint\u001b[39m(\u001b[39m'\u001b[39m\u001b[39mDONE!!!\u001b[39m\u001b[39m'\u001b[39m)\n\u001b[0;32m---> <a href='vscode-notebook-cell:/Users/steven/Desktop/xray-transients-ml/PaperCode/data_extraction.ipynb#W2sZmlsZQ%3D%3D?line=24'>25</a>\u001b[0m untar_files_loop(tar_path, extract_path)\n",
      "\u001b[1;32m/Users/steven/Desktop/xray-transients-ml/PaperCode/data_extraction.ipynb Cell 3\u001b[0m line \u001b[0;36m2\n\u001b[1;32m     <a href='vscode-notebook-cell:/Users/steven/Desktop/xray-transients-ml/PaperCode/data_extraction.ipynb#W2sZmlsZQ%3D%3D?line=17'>18</a>\u001b[0m \u001b[39mif\u001b[39;00m \u001b[39mnot\u001b[39;00m os\u001b[39m.\u001b[39mpath\u001b[39m.\u001b[39mexists(destination_folder):\n\u001b[1;32m     <a href='vscode-notebook-cell:/Users/steven/Desktop/xray-transients-ml/PaperCode/data_extraction.ipynb#W2sZmlsZQ%3D%3D?line=18'>19</a>\u001b[0m         os\u001b[39m.\u001b[39mmakedirs(destination_folder)\n\u001b[0;32m---> <a href='vscode-notebook-cell:/Users/steven/Desktop/xray-transients-ml/PaperCode/data_extraction.ipynb#W2sZmlsZQ%3D%3D?line=19'>20</a>\u001b[0m untar_files(tar_file_path, destination_folder)\n\u001b[1;32m     <a href='vscode-notebook-cell:/Users/steven/Desktop/xray-transients-ml/PaperCode/data_extraction.ipynb#W2sZmlsZQ%3D%3D?line=20'>21</a>\u001b[0m count \u001b[39m=\u001b[39m count \u001b[39m+\u001b[39m \u001b[39m1\u001b[39m\n\u001b[1;32m     <a href='vscode-notebook-cell:/Users/steven/Desktop/xray-transients-ml/PaperCode/data_extraction.ipynb#W2sZmlsZQ%3D%3D?line=21'>22</a>\u001b[0m \u001b[39mprint\u001b[39m(\u001b[39mf\u001b[39m\u001b[39m'\u001b[39m\u001b[39m{\u001b[39;00mcount\u001b[39m}\u001b[39;00m\u001b[39m/\u001b[39m\u001b[39m{\u001b[39;00mn_files\u001b[39m}\u001b[39;00m\u001b[39m'\u001b[39m)\n",
      "\u001b[1;32m/Users/steven/Desktop/xray-transients-ml/PaperCode/data_extraction.ipynb Cell 3\u001b[0m line \u001b[0;36m4\n\u001b[1;32m      <a href='vscode-notebook-cell:/Users/steven/Desktop/xray-transients-ml/PaperCode/data_extraction.ipynb#W2sZmlsZQ%3D%3D?line=1'>2</a>\u001b[0m \u001b[39mtry\u001b[39;00m:\n\u001b[1;32m      <a href='vscode-notebook-cell:/Users/steven/Desktop/xray-transients-ml/PaperCode/data_extraction.ipynb#W2sZmlsZQ%3D%3D?line=2'>3</a>\u001b[0m     \u001b[39mwith\u001b[39;00m tarfile\u001b[39m.\u001b[39mopen(tar_file, \u001b[39m'\u001b[39m\u001b[39mr\u001b[39m\u001b[39m'\u001b[39m) \u001b[39mas\u001b[39;00m tar:\n\u001b[0;32m----> <a href='vscode-notebook-cell:/Users/steven/Desktop/xray-transients-ml/PaperCode/data_extraction.ipynb#W2sZmlsZQ%3D%3D?line=3'>4</a>\u001b[0m         tar\u001b[39m.\u001b[39;49mextractall(path\u001b[39m=\u001b[39;49mdestination_folder)\n\u001b[1;32m      <a href='vscode-notebook-cell:/Users/steven/Desktop/xray-transients-ml/PaperCode/data_extraction.ipynb#W2sZmlsZQ%3D%3D?line=4'>5</a>\u001b[0m     \u001b[39mprint\u001b[39m(\u001b[39mf\u001b[39m\u001b[39m'\u001b[39m\u001b[39mSuccessfully untarred files from \u001b[39m\u001b[39m{\u001b[39;00mtar_file\u001b[39m}\u001b[39;00m\u001b[39m to \u001b[39m\u001b[39m{\u001b[39;00mdestination_folder\u001b[39m}\u001b[39;00m\u001b[39m'\u001b[39m)\n\u001b[1;32m      <a href='vscode-notebook-cell:/Users/steven/Desktop/xray-transients-ml/PaperCode/data_extraction.ipynb#W2sZmlsZQ%3D%3D?line=5'>6</a>\u001b[0m \u001b[39mexcept\u001b[39;00m \u001b[39mException\u001b[39;00m \u001b[39mas\u001b[39;00m e:\n",
      "File \u001b[0;32m~/anaconda3/envs/ciao_my_xspec/lib/python3.8/tarfile.py:2028\u001b[0m, in \u001b[0;36mTarFile.extractall\u001b[0;34m(self, path, members, numeric_owner)\u001b[0m\n\u001b[1;32m   2026\u001b[0m         tarinfo\u001b[39m.\u001b[39mmode \u001b[39m=\u001b[39m \u001b[39m0o700\u001b[39m\n\u001b[1;32m   2027\u001b[0m     \u001b[39m# Do not set_attrs directories, as we will do that further down\u001b[39;00m\n\u001b[0;32m-> 2028\u001b[0m     \u001b[39mself\u001b[39;49m\u001b[39m.\u001b[39;49mextract(tarinfo, path, set_attrs\u001b[39m=\u001b[39;49m\u001b[39mnot\u001b[39;49;00m tarinfo\u001b[39m.\u001b[39;49misdir(),\n\u001b[1;32m   2029\u001b[0m                  numeric_owner\u001b[39m=\u001b[39;49mnumeric_owner)\n\u001b[1;32m   2031\u001b[0m \u001b[39m# Reverse sort directories.\u001b[39;00m\n\u001b[1;32m   2032\u001b[0m directories\u001b[39m.\u001b[39msort(key\u001b[39m=\u001b[39m\u001b[39mlambda\u001b[39;00m a: a\u001b[39m.\u001b[39mname)\n",
      "File \u001b[0;32m~/anaconda3/envs/ciao_my_xspec/lib/python3.8/tarfile.py:2069\u001b[0m, in \u001b[0;36mTarFile.extract\u001b[0;34m(self, member, path, set_attrs, numeric_owner)\u001b[0m\n\u001b[1;32m   2066\u001b[0m     tarinfo\u001b[39m.\u001b[39m_link_target \u001b[39m=\u001b[39m os\u001b[39m.\u001b[39mpath\u001b[39m.\u001b[39mjoin(path, tarinfo\u001b[39m.\u001b[39mlinkname)\n\u001b[1;32m   2068\u001b[0m \u001b[39mtry\u001b[39;00m:\n\u001b[0;32m-> 2069\u001b[0m     \u001b[39mself\u001b[39;49m\u001b[39m.\u001b[39;49m_extract_member(tarinfo, os\u001b[39m.\u001b[39;49mpath\u001b[39m.\u001b[39;49mjoin(path, tarinfo\u001b[39m.\u001b[39;49mname),\n\u001b[1;32m   2070\u001b[0m                          set_attrs\u001b[39m=\u001b[39;49mset_attrs,\n\u001b[1;32m   2071\u001b[0m                          numeric_owner\u001b[39m=\u001b[39;49mnumeric_owner)\n\u001b[1;32m   2072\u001b[0m \u001b[39mexcept\u001b[39;00m \u001b[39mOSError\u001b[39;00m \u001b[39mas\u001b[39;00m e:\n\u001b[1;32m   2073\u001b[0m     \u001b[39mif\u001b[39;00m \u001b[39mself\u001b[39m\u001b[39m.\u001b[39merrorlevel \u001b[39m>\u001b[39m \u001b[39m0\u001b[39m:\n",
      "File \u001b[0;32m~/anaconda3/envs/ciao_my_xspec/lib/python3.8/tarfile.py:2141\u001b[0m, in \u001b[0;36mTarFile._extract_member\u001b[0;34m(self, tarinfo, targetpath, set_attrs, numeric_owner)\u001b[0m\n\u001b[1;32m   2138\u001b[0m     \u001b[39mself\u001b[39m\u001b[39m.\u001b[39m_dbg(\u001b[39m1\u001b[39m, tarinfo\u001b[39m.\u001b[39mname)\n\u001b[1;32m   2140\u001b[0m \u001b[39mif\u001b[39;00m tarinfo\u001b[39m.\u001b[39misreg():\n\u001b[0;32m-> 2141\u001b[0m     \u001b[39mself\u001b[39;49m\u001b[39m.\u001b[39;49mmakefile(tarinfo, targetpath)\n\u001b[1;32m   2142\u001b[0m \u001b[39melif\u001b[39;00m tarinfo\u001b[39m.\u001b[39misdir():\n\u001b[1;32m   2143\u001b[0m     \u001b[39mself\u001b[39m\u001b[39m.\u001b[39mmakedir(tarinfo, targetpath)\n",
      "File \u001b[0;32m~/anaconda3/envs/ciao_my_xspec/lib/python3.8/tarfile.py:2190\u001b[0m, in \u001b[0;36mTarFile.makefile\u001b[0;34m(self, tarinfo, targetpath)\u001b[0m\n\u001b[1;32m   2188\u001b[0m     target\u001b[39m.\u001b[39mtruncate()\n\u001b[1;32m   2189\u001b[0m \u001b[39melse\u001b[39;00m:\n\u001b[0;32m-> 2190\u001b[0m     copyfileobj(source, target, tarinfo\u001b[39m.\u001b[39;49msize, ReadError, bufsize)\n",
      "File \u001b[0;32m~/anaconda3/envs/ciao_my_xspec/lib/python3.8/tarfile.py:250\u001b[0m, in \u001b[0;36mcopyfileobj\u001b[0;34m(src, dst, length, exception, bufsize)\u001b[0m\n\u001b[1;32m    248\u001b[0m     \u001b[39mif\u001b[39;00m \u001b[39mlen\u001b[39m(buf) \u001b[39m<\u001b[39m bufsize:\n\u001b[1;32m    249\u001b[0m         \u001b[39mraise\u001b[39;00m exception(\u001b[39m\"\u001b[39m\u001b[39munexpected end of data\u001b[39m\u001b[39m\"\u001b[39m)\n\u001b[0;32m--> 250\u001b[0m     dst\u001b[39m.\u001b[39;49mwrite(buf)\n\u001b[1;32m    252\u001b[0m \u001b[39mif\u001b[39;00m remainder \u001b[39m!=\u001b[39m \u001b[39m0\u001b[39m:\n\u001b[1;32m    253\u001b[0m     buf \u001b[39m=\u001b[39m src\u001b[39m.\u001b[39mread(remainder)\n",
      "\u001b[0;31mKeyboardInterrupt\u001b[0m: "
     ]
    }
   ],
   "source": [
    "def untar_files(tar_file, destination_folder):\n",
    "    try:\n",
    "        with tarfile.open(tar_file, 'r') as tar:\n",
    "            tar.extractall(path=destination_folder)\n",
    "        print(f'Successfully untarred files from {tar_file} to {destination_folder}')\n",
    "    except Exception as e:\n",
    "        print(f'An error occurred: {str(e)}')\n",
    "        print(f'Error File: {tar_file}')\n",
    "\n",
    "def untar_files_loop(tar_path, destination_folder):\n",
    "    n_files = len(os.listdir(tar_path))\n",
    "    count = 0\n",
    "\n",
    "    for filename in os.listdir(tar_path):\n",
    "        tar_file_path = os.path.join(tar_path, filename)\n",
    "        destination_folder_name = os.path.splitext(filename)[0]\n",
    "        destination_folder = os.path.join(extract_path, destination_folder_name)\n",
    "        if not os.path.exists(destination_folder):\n",
    "                os.makedirs(destination_folder)\n",
    "        untar_files(tar_file_path, destination_folder)\n",
    "        count = count + 1\n",
    "        print(f'{count}/{n_files}')\n",
    "    print('DONE!!!')\n",
    "\n",
    "untar_files_loop(tar_path, extract_path)\n",
    "\n"
   ]
  },
  {
   "cell_type": "markdown",
   "metadata": {},
   "source": [
    "2. REGION FILTER"
   ]
  },
  {
   "cell_type": "code",
   "execution_count": 2,
   "metadata": {},
   "outputs": [
    {
     "data": {
      "application/vnd.jupyter.widget-view+json": {
       "model_id": "a388178a55fc40fcb51c9394bbb86aad",
       "version_major": 2,
       "version_minor": 0
      },
      "text/plain": [
       "Dropdown(description='Folder :', index=9, options=('.DS_Store', '0_10.tar', '100_110.tar', '10_10c6.tar', '10c…"
      ]
     },
     "execution_count": 2,
     "metadata": {},
     "output_type": "execute_result"
    }
   ],
   "source": [
    "data_folders = sorted(list_folders(extract_path))\n",
    "data_folders = sorted([element for element in data_folders])\n",
    "# Select Folder\n",
    "folder_widget = widgets.Dropdown(options=data_folders[:],value=data_folders[9],description='Folder :',disabled=False); folder_widget"
   ]
  },
  {
   "cell_type": "code",
   "execution_count": 4,
   "metadata": {},
   "outputs": [
    {
     "name": "stdout",
     "output_type": "stream",
     "text": [
      "120_130.tar\n"
     ]
    }
   ],
   "source": [
    "folder_id = folder_widget.value\n",
    "print(folder_id)"
   ]
  },
  {
   "cell_type": "code",
   "execution_count": 12,
   "metadata": {},
   "outputs": [
    {
     "name": "stdout",
     "output_type": "stream",
     "text": [
      "Progress: 10419/10419\n",
      "DONE: 90_100.tar\n"
     ]
    }
   ],
   "source": [
    "folder_id = folder_widget.value\n",
    "region_filter_fun(extract_path,folder_id)"
   ]
  },
  {
   "cell_type": "code",
   "execution_count": 11,
   "metadata": {},
   "outputs": [
    {
     "name": "stdout",
     "output_type": "stream",
     "text": [
      "Help on function region_filter_fun in module data_extraction_functions:\n",
      "\n",
      "region_filter_fun(global_path, set_id)\n",
      "    DESCRIPTION: Filters eventfiles in a directory with regionfiles and stores filtered files in the same directory.\n",
      "    INPUT: Directory path\n",
      "    OUTPUT: Filtered eventfiles\n",
      "\n"
     ]
    }
   ],
   "source": [
    "help(region_filter_fun)"
   ]
  },
  {
   "cell_type": "markdown",
   "metadata": {},
   "source": [
    "3. EVENTFILE TABLES"
   ]
  },
  {
   "cell_type": "code",
   "execution_count": 13,
   "metadata": {},
   "outputs": [
    {
     "data": {
      "application/vnd.jupyter.widget-view+json": {
       "model_id": "7fdaf78b6c7e4515b989e176a4711f3e",
       "version_major": 2,
       "version_minor": 0
      },
      "text/plain": [
       "Dropdown(description='Folder :', options=('.DS_Store', '0_10.tar', '100_110.tar', '10_10c6.tar', '10c6_10c7.ta…"
      ]
     },
     "execution_count": 13,
     "metadata": {},
     "output_type": "execute_result"
    }
   ],
   "source": [
    "data_folders = sorted(list_folders(extract_path))\n",
    "data_folders = sorted([element for element in data_folders])\n",
    "# Select Folder\n",
    "folder_widget = widgets.Dropdown(options=data_folders[:],value=data_folders[0],description='Folder :',disabled=False); folder_widget"
   ]
  },
  {
   "cell_type": "code",
   "execution_count": 46,
   "metadata": {},
   "outputs": [
    {
     "name": "stdout",
     "output_type": "stream",
     "text": [
      "90_100.tar\n"
     ]
    }
   ],
   "source": [
    "folder_id = folder_widget.value\n",
    "print(folder_id)"
   ]
  },
  {
   "cell_type": "code",
   "execution_count": 47,
   "metadata": {},
   "outputs": [
    {
     "name": "stdout",
     "output_type": "stream",
     "text": [
      "Progress: 10419/10419\n",
      "DONE: 90_100.tar\n"
     ]
    },
    {
     "data": {
      "text/html": [
       "<div>\n",
       "<style scoped>\n",
       "    .dataframe tbody tr th:only-of-type {\n",
       "        vertical-align: middle;\n",
       "    }\n",
       "\n",
       "    .dataframe tbody tr th {\n",
       "        vertical-align: top;\n",
       "    }\n",
       "\n",
       "    .dataframe thead th {\n",
       "        text-align: right;\n",
       "    }\n",
       "</style>\n",
       "<table border=\"1\" class=\"dataframe\">\n",
       "  <thead>\n",
       "    <tr style=\"text-align: right;\">\n",
       "      <th></th>\n",
       "      <th>time</th>\n",
       "      <th>ccd_id</th>\n",
       "      <th>node_id</th>\n",
       "      <th>expno</th>\n",
       "      <th>chipx</th>\n",
       "      <th>chipy</th>\n",
       "      <th>tdetx</th>\n",
       "      <th>tdety</th>\n",
       "      <th>detx</th>\n",
       "      <th>dety</th>\n",
       "      <th>...</th>\n",
       "      <th>y</th>\n",
       "      <th>pha</th>\n",
       "      <th>pha_ro</th>\n",
       "      <th>energy</th>\n",
       "      <th>pi</th>\n",
       "      <th>fltgrade</th>\n",
       "      <th>grade</th>\n",
       "      <th>status</th>\n",
       "      <th>obsid</th>\n",
       "      <th>region_id</th>\n",
       "    </tr>\n",
       "  </thead>\n",
       "  <tbody>\n",
       "    <tr>\n",
       "      <th>0</th>\n",
       "      <td>3.757514e+08</td>\n",
       "      <td>1</td>\n",
       "      <td>0</td>\n",
       "      <td>1478</td>\n",
       "      <td>10</td>\n",
       "      <td>93</td>\n",
       "      <td>5039</td>\n",
       "      <td>4117</td>\n",
       "      <td>5027.904785</td>\n",
       "      <td>3992.100342</td>\n",
       "      <td>...</td>\n",
       "      <td>3150.310547</td>\n",
       "      <td>281</td>\n",
       "      <td>267</td>\n",
       "      <td>1104.661987</td>\n",
       "      <td>76</td>\n",
       "      <td>0</td>\n",
       "      <td>0</td>\n",
       "      <td>[False, False, False, False, False, False, Fal...</td>\n",
       "      <td>11018</td>\n",
       "      <td>331</td>\n",
       "    </tr>\n",
       "    <tr>\n",
       "      <th>2</th>\n",
       "      <td>3.757539e+08</td>\n",
       "      <td>1</td>\n",
       "      <td>0</td>\n",
       "      <td>2261</td>\n",
       "      <td>25</td>\n",
       "      <td>62</td>\n",
       "      <td>5070</td>\n",
       "      <td>4132</td>\n",
       "      <td>5058.933594</td>\n",
       "      <td>3977.155029</td>\n",
       "      <td>...</td>\n",
       "      <td>3151.196045</td>\n",
       "      <td>325</td>\n",
       "      <td>312</td>\n",
       "      <td>1279.218018</td>\n",
       "      <td>88</td>\n",
       "      <td>0</td>\n",
       "      <td>0</td>\n",
       "      <td>[False, False, False, False, False, False, Fal...</td>\n",
       "      <td>11018</td>\n",
       "      <td>331</td>\n",
       "    </tr>\n",
       "    <tr>\n",
       "      <th>3</th>\n",
       "      <td>3.757568e+08</td>\n",
       "      <td>1</td>\n",
       "      <td>0</td>\n",
       "      <td>3148</td>\n",
       "      <td>22</td>\n",
       "      <td>68</td>\n",
       "      <td>5064</td>\n",
       "      <td>4129</td>\n",
       "      <td>5053.083008</td>\n",
       "      <td>3980.128174</td>\n",
       "      <td>...</td>\n",
       "      <td>3152.028809</td>\n",
       "      <td>383</td>\n",
       "      <td>370</td>\n",
       "      <td>1507.666748</td>\n",
       "      <td>104</td>\n",
       "      <td>0</td>\n",
       "      <td>0</td>\n",
       "      <td>[False, False, False, False, False, False, Fal...</td>\n",
       "      <td>11018</td>\n",
       "      <td>331</td>\n",
       "    </tr>\n",
       "    <tr>\n",
       "      <th>4</th>\n",
       "      <td>3.757590e+08</td>\n",
       "      <td>1</td>\n",
       "      <td>0</td>\n",
       "      <td>3822</td>\n",
       "      <td>20</td>\n",
       "      <td>69</td>\n",
       "      <td>5063</td>\n",
       "      <td>4127</td>\n",
       "      <td>5052.543457</td>\n",
       "      <td>3982.109375</td>\n",
       "      <td>...</td>\n",
       "      <td>3156.206299</td>\n",
       "      <td>330</td>\n",
       "      <td>319</td>\n",
       "      <td>1298.548096</td>\n",
       "      <td>89</td>\n",
       "      <td>2</td>\n",
       "      <td>2</td>\n",
       "      <td>[False, False, False, False, False, False, Fal...</td>\n",
       "      <td>11018</td>\n",
       "      <td>331</td>\n",
       "    </tr>\n",
       "    <tr>\n",
       "      <th>5</th>\n",
       "      <td>3.757602e+08</td>\n",
       "      <td>1</td>\n",
       "      <td>0</td>\n",
       "      <td>4185</td>\n",
       "      <td>3</td>\n",
       "      <td>77</td>\n",
       "      <td>5055</td>\n",
       "      <td>4110</td>\n",
       "      <td>5044.166016</td>\n",
       "      <td>3999.102051</td>\n",
       "      <td>...</td>\n",
       "      <td>3151.729980</td>\n",
       "      <td>423</td>\n",
       "      <td>408</td>\n",
       "      <td>1664.553223</td>\n",
       "      <td>115</td>\n",
       "      <td>0</td>\n",
       "      <td>0</td>\n",
       "      <td>[False, False, False, False, False, False, Fal...</td>\n",
       "      <td>11018</td>\n",
       "      <td>331</td>\n",
       "    </tr>\n",
       "    <tr>\n",
       "      <th>...</th>\n",
       "      <td>...</td>\n",
       "      <td>...</td>\n",
       "      <td>...</td>\n",
       "      <td>...</td>\n",
       "      <td>...</td>\n",
       "      <td>...</td>\n",
       "      <td>...</td>\n",
       "      <td>...</td>\n",
       "      <td>...</td>\n",
       "      <td>...</td>\n",
       "      <td>...</td>\n",
       "      <td>...</td>\n",
       "      <td>...</td>\n",
       "      <td>...</td>\n",
       "      <td>...</td>\n",
       "      <td>...</td>\n",
       "      <td>...</td>\n",
       "      <td>...</td>\n",
       "      <td>...</td>\n",
       "      <td>...</td>\n",
       "      <td>...</td>\n",
       "    </tr>\n",
       "    <tr>\n",
       "      <th>102</th>\n",
       "      <td>4.691101e+08</td>\n",
       "      <td>3</td>\n",
       "      <td>0</td>\n",
       "      <td>7793</td>\n",
       "      <td>153</td>\n",
       "      <td>689</td>\n",
       "      <td>4443</td>\n",
       "      <td>3214</td>\n",
       "      <td>4429.163086</td>\n",
       "      <td>4570.295898</td>\n",
       "      <td>...</td>\n",
       "      <td>4227.277344</td>\n",
       "      <td>309</td>\n",
       "      <td>235</td>\n",
       "      <td>1209.363159</td>\n",
       "      <td>83</td>\n",
       "      <td>0</td>\n",
       "      <td>0</td>\n",
       "      <td>[False, False, False, False, False, False, Fal...</td>\n",
       "      <td>14351</td>\n",
       "      <td>74</td>\n",
       "    </tr>\n",
       "    <tr>\n",
       "      <th>103</th>\n",
       "      <td>4.691110e+08</td>\n",
       "      <td>3</td>\n",
       "      <td>0</td>\n",
       "      <td>8097</td>\n",
       "      <td>165</td>\n",
       "      <td>690</td>\n",
       "      <td>4442</td>\n",
       "      <td>3226</td>\n",
       "      <td>4428.296387</td>\n",
       "      <td>4558.250977</td>\n",
       "      <td>...</td>\n",
       "      <td>4228.974121</td>\n",
       "      <td>457</td>\n",
       "      <td>384</td>\n",
       "      <td>1787.471558</td>\n",
       "      <td>123</td>\n",
       "      <td>0</td>\n",
       "      <td>0</td>\n",
       "      <td>[False, False, False, False, False, False, Fal...</td>\n",
       "      <td>14351</td>\n",
       "      <td>74</td>\n",
       "    </tr>\n",
       "    <tr>\n",
       "      <th>104</th>\n",
       "      <td>4.691110e+08</td>\n",
       "      <td>3</td>\n",
       "      <td>0</td>\n",
       "      <td>8104</td>\n",
       "      <td>173</td>\n",
       "      <td>691</td>\n",
       "      <td>4441</td>\n",
       "      <td>3234</td>\n",
       "      <td>4427.322754</td>\n",
       "      <td>4550.262207</td>\n",
       "      <td>...</td>\n",
       "      <td>4226.856445</td>\n",
       "      <td>1286</td>\n",
       "      <td>1129</td>\n",
       "      <td>5038.358398</td>\n",
       "      <td>346</td>\n",
       "      <td>0</td>\n",
       "      <td>0</td>\n",
       "      <td>[False, False, False, False, False, False, Fal...</td>\n",
       "      <td>14351</td>\n",
       "      <td>74</td>\n",
       "    </tr>\n",
       "    <tr>\n",
       "      <th>105</th>\n",
       "      <td>4.691115e+08</td>\n",
       "      <td>3</td>\n",
       "      <td>0</td>\n",
       "      <td>8264</td>\n",
       "      <td>152</td>\n",
       "      <td>711</td>\n",
       "      <td>4421</td>\n",
       "      <td>3213</td>\n",
       "      <td>4407.349609</td>\n",
       "      <td>4571.064941</td>\n",
       "      <td>...</td>\n",
       "      <td>4224.189453</td>\n",
       "      <td>311</td>\n",
       "      <td>240</td>\n",
       "      <td>1216.857788</td>\n",
       "      <td>84</td>\n",
       "      <td>0</td>\n",
       "      <td>0</td>\n",
       "      <td>[False, False, False, False, False, False, Fal...</td>\n",
       "      <td>14351</td>\n",
       "      <td>74</td>\n",
       "    </tr>\n",
       "    <tr>\n",
       "      <th>106</th>\n",
       "      <td>4.691120e+08</td>\n",
       "      <td>3</td>\n",
       "      <td>0</td>\n",
       "      <td>8413</td>\n",
       "      <td>176</td>\n",
       "      <td>690</td>\n",
       "      <td>4442</td>\n",
       "      <td>3237</td>\n",
       "      <td>4428.798340</td>\n",
       "      <td>4547.028320</td>\n",
       "      <td>...</td>\n",
       "      <td>4224.276855</td>\n",
       "      <td>857</td>\n",
       "      <td>766</td>\n",
       "      <td>3357.689209</td>\n",
       "      <td>230</td>\n",
       "      <td>2</td>\n",
       "      <td>2</td>\n",
       "      <td>[False, False, False, False, False, False, Fal...</td>\n",
       "      <td>14351</td>\n",
       "      <td>74</td>\n",
       "    </tr>\n",
       "  </tbody>\n",
       "</table>\n",
       "<p>461343 rows × 21 columns</p>\n",
       "</div>"
      ],
      "text/plain": [
       "             time ccd_id node_id expno chipx chipy tdetx tdety         detx  \\\n",
       "0    3.757514e+08      1       0  1478    10    93  5039  4117  5027.904785   \n",
       "2    3.757539e+08      1       0  2261    25    62  5070  4132  5058.933594   \n",
       "3    3.757568e+08      1       0  3148    22    68  5064  4129  5053.083008   \n",
       "4    3.757590e+08      1       0  3822    20    69  5063  4127  5052.543457   \n",
       "5    3.757602e+08      1       0  4185     3    77  5055  4110  5044.166016   \n",
       "..            ...    ...     ...   ...   ...   ...   ...   ...          ...   \n",
       "102  4.691101e+08      3       0  7793   153   689  4443  3214  4429.163086   \n",
       "103  4.691110e+08      3       0  8097   165   690  4442  3226  4428.296387   \n",
       "104  4.691110e+08      3       0  8104   173   691  4441  3234  4427.322754   \n",
       "105  4.691115e+08      3       0  8264   152   711  4421  3213  4407.349609   \n",
       "106  4.691120e+08      3       0  8413   176   690  4442  3237  4428.798340   \n",
       "\n",
       "            dety  ...            y   pha pha_ro       energy   pi fltgrade  \\\n",
       "0    3992.100342  ...  3150.310547   281    267  1104.661987   76        0   \n",
       "2    3977.155029  ...  3151.196045   325    312  1279.218018   88        0   \n",
       "3    3980.128174  ...  3152.028809   383    370  1507.666748  104        0   \n",
       "4    3982.109375  ...  3156.206299   330    319  1298.548096   89        2   \n",
       "5    3999.102051  ...  3151.729980   423    408  1664.553223  115        0   \n",
       "..           ...  ...          ...   ...    ...          ...  ...      ...   \n",
       "102  4570.295898  ...  4227.277344   309    235  1209.363159   83        0   \n",
       "103  4558.250977  ...  4228.974121   457    384  1787.471558  123        0   \n",
       "104  4550.262207  ...  4226.856445  1286   1129  5038.358398  346        0   \n",
       "105  4571.064941  ...  4224.189453   311    240  1216.857788   84        0   \n",
       "106  4547.028320  ...  4224.276855   857    766  3357.689209  230        2   \n",
       "\n",
       "    grade                                             status  obsid  region_id  \n",
       "0       0  [False, False, False, False, False, False, Fal...  11018        331  \n",
       "2       0  [False, False, False, False, False, False, Fal...  11018        331  \n",
       "3       0  [False, False, False, False, False, False, Fal...  11018        331  \n",
       "4       2  [False, False, False, False, False, False, Fal...  11018        331  \n",
       "5       0  [False, False, False, False, False, False, Fal...  11018        331  \n",
       "..    ...                                                ...    ...        ...  \n",
       "102     0  [False, False, False, False, False, False, Fal...  14351         74  \n",
       "103     0  [False, False, False, False, False, False, Fal...  14351         74  \n",
       "104     0  [False, False, False, False, False, False, Fal...  14351         74  \n",
       "105     0  [False, False, False, False, False, False, Fal...  14351         74  \n",
       "106     2  [False, False, False, False, False, False, Fal...  14351         74  \n",
       "\n",
       "[461343 rows x 21 columns]"
      ]
     },
     "execution_count": 47,
     "metadata": {},
     "output_type": "execute_result"
    }
   ],
   "source": [
    "# File Loop\n",
    "folder_id = folder_widget.value\n",
    "create_eventfilestable_fun(extract_path,folder_id)"
   ]
  },
  {
   "cell_type": "code",
   "execution_count": 6,
   "metadata": {},
   "outputs": [
    {
     "name": "stdout",
     "output_type": "stream",
     "text": [
      "1/52\n",
      "2/52\n",
      "3/52\n",
      "4/52\n",
      "5/52\n",
      "6/52\n",
      "7/52\n",
      "8/52\n",
      "9/52\n",
      "10/52\n",
      "11/52\n",
      "12/52\n",
      "13/52\n",
      "14/52\n",
      "15/52\n",
      "16/52\n",
      "17/52\n",
      "18/52\n",
      "19/52\n",
      "20/52\n",
      "21/52\n",
      "22/52\n",
      "23/52\n",
      "24/52\n",
      "25/52\n",
      "26/52\n",
      "27/52\n",
      "28/52\n",
      "29/52\n",
      "30/52\n",
      "31/52\n",
      "32/52\n",
      "33/52\n",
      "34/52\n",
      "35/52\n",
      "36/52\n",
      "37/52\n",
      "38/52\n",
      "39/52\n",
      "40/52\n",
      "41/52\n",
      "42/52\n",
      "43/52\n",
      "44/52\n",
      "45/52\n",
      "46/52\n",
      "47/52\n",
      "48/52\n",
      "49/52\n",
      "50/52\n",
      "51/52\n",
      "DONE!\n"
     ]
    }
   ],
   "source": [
    "# Combine Eventfile Tables into one CSV\n",
    "total = len(os.listdir(f'{extract_path}'))\n",
    "count = 0\n",
    "df_events_list=[]\n",
    "for folder in os.listdir(f'{extract_path}'):\n",
    "    if folder.endswith(f'tar'):\n",
    "        for evtfile_name in os.listdir(f'{extract_path}/{folder}'):\n",
    "            if evtfile_name.startswith(f'eventfiles'):\n",
    "                df_evt = pd.read_csv(f'{extract_path}/{folder}/{evtfile_name}')\n",
    "                df_events_list.append(df_evt)\n",
    "                count = count + 1\n",
    "                print(f'{count}/{total}')\n",
    "df_evt = pd.concat(df_events_list)\n",
    "df_evt.to_csv(f'{extract_path}/eventfiles-New.csv',index=False)\n",
    "print('DONE!')"
   ]
  },
  {
   "cell_type": "markdown",
   "metadata": {},
   "source": [
    "4. EVENTFILE TABLES SPLITTING"
   ]
  },
  {
   "cell_type": "code",
   "execution_count": 2,
   "metadata": {},
   "outputs": [],
   "source": [
    "# Remove eventfiles with less than 5 counts\n",
    "df_events = pd.read_csv(f'{global_path}/eventfiles.csv')\n"
   ]
  },
  {
   "cell_type": "code",
   "execution_count": 3,
   "metadata": {},
   "outputs": [],
   "source": [
    "df_events_groups = df_events.groupby(['obsid', 'region_id'])\n",
    "filtered_groups = df_events_groups.filter(lambda x: len(x) >= 5)"
   ]
  },
  {
   "cell_type": "code",
   "execution_count": 19,
   "metadata": {},
   "outputs": [],
   "source": [
    "def split_eventfile(df):\n",
    "    first_time = df['time'].iloc[0]\n",
    "    last_time = df['time'].iloc[-1]\n",
    "    duration = last_time - first_time\n",
    "    df['duration'] = duration\n",
    "\n",
    "    if duration <= 48000:  # 48 kiloseconds\n",
    "        df['split_id'] = 1\n",
    "        df['split_flag'] = False\n",
    "    else:\n",
    "        num_splits = int((duration // 48000) + 1)\n",
    "        df['split_id'] = pd.cut(df['time'], bins=num_splits, labels=False) + 1\n",
    "        df['split_flag'] = True\n",
    "\n",
    "    return df\n",
    "\n",
    "# Group the DataFrame by 'obsid' and 'region_id' and apply the split_eventfile function\n",
    "df_new = filtered_groups.groupby(['obsid', 'region_id']).apply(split_eventfile)\n",
    "\n",
    "# Reset the index and drop the temporary 'level_2' index\n",
    "df_new.reset_index(drop=True, inplace=True)\n",
    "\n",
    "# # Write the modified DataFrame back to a new CSV file\n",
    "df_new.to_csv(f'{global_path}/eventfiles-split.csv', index=False)"
   ]
  },
  {
   "cell_type": "markdown",
   "metadata": {},
   "source": [
    "5. DATA REDUCTION"
   ]
  },
  {
   "cell_type": "code",
   "execution_count": 14,
   "metadata": {},
   "outputs": [],
   "source": [
    "df_prop = pd.read_csv(f'{global_path}/properties.csv')\n",
    "df_evts = pd.read_csv(f'{global_path}/eventfiles-split.csv')\n",
    "df_prop_sn5 = pd.read_csv(f'{global_path}/properties-sn5.csv')"
   ]
  },
  {
   "cell_type": "code",
   "execution_count": 17,
   "metadata": {},
   "outputs": [
    {
     "name": "stdout",
     "output_type": "stream",
     "text": [
      "144260\n"
     ]
    }
   ],
   "source": [
    "# df_prop = pd.read_csv(f'{global_path}/properties.csv')\n",
    "# print(len(df_prop))\n",
    "# df_prop_sn5 = df_prop[df_prop['flux_significance_b']>=5]\n",
    "# df_prop_sn5.to_csv(f'{global_path}/properties-sn5.csv', index=False)\n",
    "df_prop_sn5 = pd.read_csv(f'{global_path}/properties-sn5.csv')\n",
    "print(len(df_prop_sn5))"
   ]
  },
  {
   "cell_type": "code",
   "execution_count": 18,
   "metadata": {},
   "outputs": [
    {
     "name": "stderr",
     "output_type": "stream",
     "text": [
      "/var/folders/q1/jbx7qj7s0dxbh7nv02nfvc680000gn/T/ipykernel_5337/2036114459.py:12: SettingWithCopyWarning: \n",
      "A value is trying to be set on a copy of a slice from a DataFrame.\n",
      "Try using .loc[row_indexer,col_indexer] = value instead\n",
      "\n",
      "See the caveats in the documentation: https://pandas.pydata.org/pandas-docs/stable/user_guide/indexing.html#returning-a-view-versus-a-copy\n",
      "  df_eventfiles_input['obsreg_id'] = df_eventfiles_input['obsid'].astype(str) + '-' + df_eventfiles_input['region_id'].astype(str)\n",
      "/var/folders/q1/jbx7qj7s0dxbh7nv02nfvc680000gn/T/ipykernel_5337/2036114459.py:14: SettingWithCopyWarning: \n",
      "A value is trying to be set on a copy of a slice from a DataFrame.\n",
      "Try using .loc[row_indexer,col_indexer] = value instead\n",
      "\n",
      "See the caveats in the documentation: https://pandas.pydata.org/pandas-docs/stable/user_guide/indexing.html#returning-a-view-versus-a-copy\n",
      "  df_eventfiles_input['ID'] = df_eventfiles_input['obsreg_id'].astype(str) + '-' + df_eventfiles_input['split_id'].astype(str)\n"
     ]
    }
   ],
   "source": [
    "# 4. Data Reduction Function\n",
    "def data_reduction_fun(df_eventfiles,df_properties,global_path,unique_ids = True, min_counts = 5):\n",
    "    \"\"\"\n",
    "    DESCRIPTION: Reduces evenfiles table and properties table to required columns and adds unique ID, can now be used for data representation function\n",
    "    INPUT: 1. Original eventfile table, 2. Original properties table, 3. Global Path, 4. Set Name\n",
    "    OUTPUT: 1. Reduced eventfile table, 2. Reduced properties table\n",
    "    \"\"\"\n",
    "    # Extract important labels and input columns\n",
    "    df_eventfiles_input = df_eventfiles[['obsid','region_id','split_id','time','energy','chipx','chipy']]\n",
    "    df_properties_input = df_properties\n",
    "    # Create unique IDs\n",
    "    df_eventfiles_input['obsreg_id'] = df_eventfiles_input['obsid'].astype(str) + '-' + df_eventfiles_input['region_id'].astype(str)\n",
    "    df_properties_input['obsreg_id'] = df_properties_input['obsid'].astype(str) + '-' + df_properties_input['region_id'].astype(str)\n",
    "    df_eventfiles_input['ID'] = df_eventfiles_input['obsreg_id'].astype(str) + '-' + df_eventfiles_input['split_id'].astype(str)\n",
    "    # df_properties_input['ID'] = df_properties_input['obsreg_id'].astype(str) + '-' + df_properties_input['split_id'].astype(str)\n",
    "    # Drop individual IDs\n",
    "    # df_eventfiles_input = df_eventfiles_input.drop(columns=['obsid', 'region_id'])\n",
    "    # df_properties_input = df_properties_input.drop(columns=['obsid', 'region_id'])\n",
    "    # Filter observations where there are less than min_counts counts\n",
    "    counts = df_eventfiles_input['obsreg_id'].value_counts()\n",
    "    count_mask = df_eventfiles_input['obsreg_id'].isin(counts[counts >= min_counts].index)\n",
    "    df_eventfiles_input = df_eventfiles_input[count_mask]\n",
    "\n",
    "    counts2 = df_eventfiles_input['ID'].value_counts()\n",
    "    count_mask2 = df_eventfiles_input['ID'].isin(counts2[counts2 >= 2].index)\n",
    "    df_eventfiles_input = df_eventfiles_input[count_mask2]\n",
    "    # Unique ID combinations filter\n",
    "    if unique_ids:\n",
    "        common_obsreg_ids = set(df_eventfiles_input['obsreg_id']).intersection(df_properties_input['obsreg_id'])\n",
    "        df_eventfiles_input = df_eventfiles_input[df_eventfiles_input['obsreg_id'].isin(common_obsreg_ids)]\n",
    "        df_properties_input = df_properties_input[df_properties_input['obsreg_id'].isin(common_obsreg_ids)]\n",
    "        # df_eventfiles_input = df_eventfiles_input[df_eventfiles_input['obsreg_id'].isin(df_properties_input['obsreg_id'].unique())]\n",
    "        # df_properties_input = df_properties_input[df_properties_input['obsreg_id'].isin(df_eventfiles_input['obsreg_id'].unique())]\n",
    "        # df_eventfiles_input = df_eventfiles_input[df_eventfiles_input['obsreg_id'].isin(df_properties_input['obsreg_id'].unique())]\n",
    "    df_eventfiles_input = df_eventfiles_input.sort_values(by=['obsreg_id','time'])\n",
    "    df_properties_input = df_properties_input.sort_values(by='obsreg_id')\n",
    "    df_properties_input.insert(1, 'obsreg_id', df_properties_input.pop('obsreg_id'))\n",
    "    df_properties_input = df_properties_input[~df_properties_input.duplicated(subset='obsreg_id', keep='first')] #remove doubled obsred_ids ...\n",
    "    df_properties_input = pd.merge(df_properties_input, df_eventfiles_input[['obsreg_id', 'ID']], how=\"inner\", on='obsreg_id')\n",
    "    df_properties_input = df_properties_input.drop_duplicates(keep='first')\n",
    "    return df_eventfiles_input, df_properties_input\n",
    "\n",
    "df_eventfiles_input, df_properties_input = data_reduction_fun(df_evts,df_prop_sn5,global_path,unique_ids = True, min_counts = 5)\n",
    "# Save new dataframes\n",
    "df_eventfiles_input.to_csv(f'{global_path}/eventfiles-input-sn5.csv',index=False)\n",
    "df_properties_input.to_csv(f'{global_path}/properties-input-sn5.csv',index=False)"
   ]
  },
  {
   "cell_type": "code",
   "execution_count": 19,
   "metadata": {},
   "outputs": [
    {
     "name": "stdout",
     "output_type": "stream",
     "text": [
      "352907 48903768 151967 20983465\n",
      "151967 151967 95366 95366\n"
     ]
    }
   ],
   "source": [
    "print(len(df_prop), len(df_evts), len(df_properties_input), len(df_eventfiles_input))\n",
    "print(len(df_properties_input['ID'].unique()), len(df_properties_input['ID'].unique()), len(df_properties_input['obsreg_id'].unique()), len(df_eventfiles_input['obsreg_id'].unique()))"
   ]
  },
  {
   "cell_type": "markdown",
   "metadata": {},
   "source": [
    "## PLAYGROUND"
   ]
  },
  {
   "cell_type": "code",
   "execution_count": 13,
   "metadata": {},
   "outputs": [
    {
     "name": "stdout",
     "output_type": "stream",
     "text": [
      "Filename: /Users/steven/Desktop/Paper/extracted_files/230_240.tar/acisf00090_001N026_r0001_regevt3.fits.gz\n",
      "No.    Name      Ver    Type      Cards   Dimensions   Format\n",
      "  0  PRIMARY       1 PrimaryHDU      74   ()      \n",
      "  1  EVENTS        1 BinTableHDU   1217   235R x 19C   [1D, 1I, 1I, 1J, 1I, 1I, 1I, 1I, 1E, 1E, 1E, 1E, 1J, 1J, 1E, 1J, 1I, 1I, 32X]   \n",
      "  2  GTI           3 BinTableHDU     35   1R x 2C   [1D, 1D]   \n",
      "  3  GTI           2 BinTableHDU     35   1R x 2C   [1D, 1D]   \n",
      "  4  GTI           1 BinTableHDU     35   1R x 2C   [1D, 1D]   \n",
      "  5  GTI           0 BinTableHDU     35   1R x 2C   [1D, 1D]   \n",
      "  6  GTI           6 BinTableHDU     35   1R x 2C   [1D, 1D]   \n",
      "  7  MASK          1 ImageHDU        55   (106, 124)   uint8   \n",
      "<bound method HDUList.info of [<astropy.io.fits.hdu.image.PrimaryHDU object at 0x7fb598d005e0>, <astropy.io.fits.hdu.table.BinTableHDU object at 0x7fb59889b4c0>, <astropy.io.fits.hdu.table.BinTableHDU object at 0x7fb5bd281730>, <astropy.io.fits.hdu.table.BinTableHDU object at 0x7fb5bd2816d0>, <astropy.io.fits.hdu.table.BinTableHDU object at 0x7fb5bd297820>, <astropy.io.fits.hdu.table.BinTableHDU object at 0x7fb5bd29c1c0>, <astropy.io.fits.hdu.table.BinTableHDU object at 0x7fb5bd29cb50>, <astropy.io.fits.hdu.image.ImageHDU object at 0x7fb5bd285520>]>\n"
     ]
    }
   ],
   "source": [
    "filename = '/Users/steven/Desktop/Paper/extracted_files/230_240.tar/acisf00090_001N026_r0001_regevt3.fits.gz'\n",
    "with fits.open(filename) as hdul:\n",
    "    hdul.info()\n",
    "    # Events dataframe\n",
    "    events = hdul[\"Events\"].data\n",
    "    events_table = Table(events)\n",
    "    events_cols = events.columns.names\n",
    "    print(hdul.info)\n",
    "    df_events = pd.DataFrame.from_records(events_table, columns=events_cols)\n",
    "    df_events = df_events.sort_values(by=[\"time\"])\n",
    "\n",
    "\n",
    "        # # GTI (Good Time Interval) dataframe\n",
    "        # gti = hdul[\"GTI\"].data\n",
    "        # gti_table = Table(gti)\n",
    "        # gti_cols = gti.columns.names\n",
    "        # df_gti = pd.DataFrame.from_records(gti_table, columns=gti_cols)\n",
    "        # # Apply GTI filter to events\n",
    "        # gti_mask = np.zeros(len(df_events), dtype=bool)\n",
    "        # for i in range(len(df_gti)):\n",
    "        #     start = df_gti.iloc[i]['START']\n",
    "        #     stop = df_gti.iloc[i]['STOP']\n",
    "        #     gti_mask |= (df_events[\"time\"] >= start) & (df_events[\"time\"] < stop)\n",
    "        # df_events = df_events[gti_mask]\n",
    "        # # Apply energy, pha, grade filters to events\n",
    "        # df_events = df_events[(df_events['energy']>500) & (df_events['energy']<7000)]\n",
    "        # # Add obsid and region_id column (from filename)\n",
    "        # try: \n",
    "        #     df_events[\"obsid\"] = int(filename.split('_')[-5][-5:])\n",
    "        # except: \n",
    "        #     df_events[\"obsid\"] = int(filename.split('_')[-6][-5:])\n",
    "        # df_events[\"region_id\"] = int(filename.split('_')[-3][-4:])\n",
    "        # # Append to dataframe list\n",
    "        # list_df_events.append(df_events)\n",
    "        # counter = counter+1\n",
    "        # clear_output(wait=True)\n",
    "        # print(f'Progress: {counter}/{total}')"
   ]
  }
 ],
 "metadata": {
  "kernelspec": {
   "display_name": "Python 3",
   "language": "python",
   "name": "python3"
  },
  "language_info": {
   "codemirror_mode": {
    "name": "ipython",
    "version": 3
   },
   "file_extension": ".py",
   "mimetype": "text/x-python",
   "name": "python",
   "nbconvert_exporter": "python",
   "pygments_lexer": "ipython3",
   "version": "3.8.16"
  },
  "orig_nbformat": 4
 },
 "nbformat": 4,
 "nbformat_minor": 2
}
