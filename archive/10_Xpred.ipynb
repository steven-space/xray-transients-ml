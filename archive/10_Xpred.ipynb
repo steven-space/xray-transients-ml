{
 "cells": [
  {
   "attachments": {},
   "cell_type": "markdown",
   "metadata": {},
   "source": [
    "# 1. Set Up Notebook and Load Data "
   ]
  },
  {
   "cell_type": "code",
   "execution_count": 1,
   "metadata": {},
   "outputs": [
    {
     "name": "stdout",
     "output_type": "stream",
     "text": [
      "Num GPUs Available:  1\n",
      "TensorFlow has access to the following devices:\n",
      "[PhysicalDevice(name='/physical_device:CPU:0', device_type='CPU'), PhysicalDevice(name='/physical_device:GPU:0', device_type='GPU')]\n",
      "TensorFlow version: 2.12.0\n"
     ]
    },
    {
     "data": {
      "application/vnd.jupyter.widget-view+json": {
       "model_id": "f8253726da9849ca99fe2899eb92ead3",
       "version_major": 2,
       "version_minor": 0
      },
      "text/plain": [
       "Dropdown(description='Set :', index=1, options=('Full', 'All', 'Full_extra', 'New', 'Bona'), value='All')"
      ]
     },
     "execution_count": 1,
     "metadata": {},
     "output_type": "execute_result"
    }
   ],
   "source": [
    "import matplotlib.pyplot as plt\n",
    "from pathlib import Path\n",
    "import numpy as np\n",
    "import pandas as pd\n",
    "import fnmatch\n",
    "import pickle\n",
    "import ipywidgets as widgets\n",
    "from IPython.display import display\n",
    "import sys\n",
    "import os\n",
    "import math\n",
    "from sklearn.metrics import accuracy_score, precision_score, recall_score\n",
    "from sklearn.model_selection import train_test_split\n",
    "import tensorflow as tf \n",
    "print(\"Num GPUs Available: \", len(tf.config.experimental.list_physical_devices('GPU')))\n",
    "# Check for TensorFlow GPU access\n",
    "print(f\"TensorFlow has access to the following devices:\\n{tf.config.list_physical_devices()}\")\n",
    "# See TensorFlow version\n",
    "print(f\"TensorFlow version: {tf.__version__}\")\n",
    "import math\n",
    "from sklearn.metrics import accuracy_score, precision_score, recall_score\n",
    "from sklearn.model_selection import train_test_split\n",
    "from tensorflow.keras import layers, models, losses\n",
    "from tensorflow.keras.layers import Conv2D, MaxPooling2D, UpSampling2D, Reshape, Input, Flatten, Dense, Conv2DTranspose, LeakyReLU, BatchNormalization,  LeakyReLU,  Activation, LSTM, TimeDistributed, RepeatVector, Lambda, Dropout\n",
    "from tensorflow.keras.callbacks import EarlyStopping, LearningRateScheduler, ReduceLROnPlateau, TensorBoard\n",
    "from tensorflow.keras.models import Model, Sequential\n",
    "from tensorflow.keras.optimizers.legacy import Adam\n",
    "from keras.activations import elu\n",
    "from tensorflow.keras.initializers import HeUniform, GlorotUniform, HeNormal, LecunNormal\n",
    "from tensorflow.keras import regularizers\n",
    "\n",
    "\n",
    "\n",
    "# CUSTOM Imports\n",
    "def list_folders_fun(path):\n",
    "    \"\"\"\n",
    "    DESCRIPTION: List folders in a given directory.\n",
    "    INPUT: Directory path\n",
    "    OUTPUT: Folder names in a given directory\n",
    "    \"\"\"\n",
    "    folder_list = [f.name for f in Path(path).iterdir() if f.is_dir()]\n",
    "    return folder_list\n",
    "\n",
    "# Specify global path\n",
    "global_path = '/Users/steven/Library/Mobile Documents/com~apple~CloudDocs/0-CfA/4-Data/Datasets'\n",
    "global_folders = list_folders_fun(global_path)\n",
    "\n",
    "# Select dataset\n",
    "set_widget = widgets.Dropdown(options=global_folders[:],value=global_folders[1],description='Set :',disabled=False); set_widget"
   ]
  },
  {
   "cell_type": "code",
   "execution_count": 2,
   "metadata": {},
   "outputs": [
    {
     "data": {
      "application/vnd.jupyter.widget-view+json": {
       "model_id": "13aea7e850034b1d83edeefecf19879f",
       "version_major": 2,
       "version_minor": 0
      },
      "text/plain": [
       "Dropdown(description='TSNE File :', options=('hist2D-All-nE16-nt24-normminmax.pkl',), value='hist2D-All-nE16-n…"
      ]
     },
     "execution_count": 2,
     "metadata": {},
     "output_type": "execute_result"
    }
   ],
   "source": [
    "# Set ID\n",
    "set_id = set_widget.value\n",
    "# Select Input\n",
    "files = os.listdir(f'{global_path}/{set_id}/')\n",
    "input_files = [f for f in files if fnmatch.fnmatch(f, 'hist2D*24*minmax*')]\n",
    "input_widget = widgets.Dropdown(options=input_files[:],value=input_files[0],description='TSNE File :',disabled=False); input_widget"
   ]
  },
  {
   "cell_type": "code",
   "execution_count": 3,
   "metadata": {},
   "outputs": [],
   "source": [
    "# Load features\n",
    "input_file = input_widget.value\n",
    "with open(f'{global_path}/{set_id}/{input_file}', 'rb') as f:\n",
    "    hist_dict = pickle.load(f)\n",
    "ids = list(hist_dict.keys())\n",
    "histograms = hist_dict.values()\n",
    "features = np.array([np.array(h) for h in histograms])\n",
    "# Load properties\n",
    "df_properties_input = pd.read_csv(f'{global_path}/{set_id}/properties-input-{set_id}.csv')\n",
    "df_properties_input = df_properties_input[df_properties_input['obsreg_id'].isin(list(ids))]\n",
    "df_properties = df_properties_input.drop_duplicates('obsreg_id', keep='first').reset_index(drop=True)\n",
    "# Data\n",
    "df_label = df_properties.copy()\n",
    "df_label_h = df_label[['obsreg_id','hard_hs', 'hard_hm','hard_ms']]\n",
    "df_label_v = df_label[['obsreg_id','var_prob_b','var_prob_h','var_prob_m','var_prob_s','var_index_b']]\n",
    "mask_nonan_h = df_label_h.notna().all(axis=1)\n",
    "mask_nonan_v = df_label_v.notna().all(axis=1)\n",
    "index_nonan_h = list(df_label_h.notna().all(axis=1).index[df_label_h.notna().all(axis=1)])\n",
    "index_nonan_v = list(df_label_v.notna().all(axis=1).index[df_label_v.notna().all(axis=1)])\n",
    "df_label_h = df_label_h[mask_nonan_h]\n",
    "df_label_v = df_label_v[mask_nonan_v]\n",
    "\n",
    "hr_hs = np.array(df_label_h['hard_hs'].values)\n",
    "hr_hm = np.array(df_label_h['hard_hm'].values)\n",
    "hr_ms = np.array(df_label_h['hard_ms'].values)\n",
    "\n",
    "var_b = np.array(df_label_v['var_prob_b'].values)\n",
    "var_h = np.array(df_label_v['var_prob_h'].values)\n",
    "var_m = np.array(df_label_v['var_prob_m'].values)\n",
    "var_s = np.array(df_label_v['var_prob_s'].values)\n",
    "var_index = np.array(df_label_v['var_index_b'].values)\n",
    "\n",
    "yh = np.vstack((hr_hs, hr_hm, hr_ms)).T\n",
    "desc_h = ['HR HS', 'HR HM', 'HR MS']\n",
    "yv = np.vstack((var_b, var_h, var_m, var_s, var_index)).T\n",
    "desc_v = ['VAR B', 'VAR H', 'VAR M', 'VAR S', 'VAR INDEX']"
   ]
  },
  {
   "cell_type": "code",
   "execution_count": 4,
   "metadata": {},
   "outputs": [
    {
     "data": {
      "application/vnd.jupyter.widget-view+json": {
       "model_id": "157ef5d4f23a4e6f8c670e736130a412",
       "version_major": 2,
       "version_minor": 0
      },
      "text/plain": [
       "Dropdown(description='Property:', options=('HR', 'VAR'), value='HR')"
      ]
     },
     "execution_count": 4,
     "metadata": {},
     "output_type": "execute_result"
    }
   ],
   "source": [
    "prop_option = ['HR', 'VAR']\n",
    "\n",
    "prop_widget = widgets.Dropdown(options=prop_option[:],value=prop_option[0],description='Property:',disabled=False); prop_widget"
   ]
  },
  {
   "cell_type": "code",
   "execution_count": 5,
   "metadata": {},
   "outputs": [
    {
     "name": "stdout",
     "output_type": "stream",
     "text": [
      "Training Set X (64708, 384)\n",
      "Test Set X (16177, 384)\n",
      "Training Set Y (64708, 3)\n",
      "Test Set Y (16177, 3)\n"
     ]
    }
   ],
   "source": [
    "prop = prop_widget.value\n",
    "\n",
    "if prop == 'HR':\n",
    "    y = yh\n",
    "    dfp = df_label_h\n",
    "    X = np.array([features[i].flatten() for i in index_nonan_h])\n",
    "    npred = 3\n",
    "    desc = desc_h\n",
    "    active = 'tanh'\n",
    "elif prop == 'VAR':\n",
    "    y = yv\n",
    "    dfp = df_label_v\n",
    "    X = np.array([features[i].flatten() for i in index_nonan_v])\n",
    "    npred = 4\n",
    "    desc = desc_v\n",
    "    active = 'sigmoid'\n",
    "\n",
    "ID = dfp['obsreg_id'].values\n",
    "rs = 505\n",
    "splits = 0.2\n",
    "X_train, X_test, ID_train, ID_test, y_train, y_test = train_test_split(X, ID, y, test_size=splits, random_state=rs)\n",
    "# Print Summary\n",
    "print ('Training Set X', X_train.shape)\n",
    "print ('Test Set X', X_test.shape)\n",
    "print ('Training Set Y', y_train.shape)\n",
    "print ('Test Set Y', y_test.shape)"
   ]
  },
  {
   "attachments": {},
   "cell_type": "markdown",
   "metadata": {},
   "source": [
    "# 3. Predictor Model"
   ]
  },
  {
   "cell_type": "code",
   "execution_count": 8,
   "metadata": {},
   "outputs": [
    {
     "name": "stdout",
     "output_type": "stream",
     "text": [
      "Model: \"sequential_2\"\n",
      "_________________________________________________________________\n",
      " Layer (type)                Output Shape              Param #   \n",
      "=================================================================\n",
      " lambda_2 (Lambda)           (None, 384)               0         \n",
      "                                                                 \n",
      " dense_8 (Dense)             (None, 256)               98560     \n",
      "                                                                 \n",
      " dense_9 (Dense)             (None, 64)                16448     \n",
      "                                                                 \n",
      " dense_10 (Dense)            (None, 16)                1040      \n",
      "                                                                 \n",
      " dense_11 (Dense)            (None, 3)                 51        \n",
      "                                                                 \n",
      "=================================================================\n",
      "Total params: 116,099\n",
      "Trainable params: 116,099\n",
      "Non-trainable params: 0\n",
      "_________________________________________________________________\n",
      "\n",
      "Epoch 1/250\n",
      "64/64 [==============================] - 1s 9ms/step - loss: 0.0821 - val_loss: 0.0517 - lr: 0.0010\n",
      "Epoch 2/250\n",
      "64/64 [==============================] - 0s 6ms/step - loss: 0.0454 - val_loss: 0.0414 - lr: 0.0010\n",
      "Epoch 3/250\n",
      "64/64 [==============================] - 0s 6ms/step - loss: 0.0374 - val_loss: 0.0367 - lr: 0.0010\n",
      "Epoch 4/250\n",
      "64/64 [==============================] - 0s 6ms/step - loss: 0.0333 - val_loss: 0.0342 - lr: 0.0010\n",
      "Epoch 5/250\n",
      "64/64 [==============================] - 0s 6ms/step - loss: 0.0307 - val_loss: 0.0331 - lr: 0.0010\n",
      "Epoch 6/250\n",
      "64/64 [==============================] - 0s 6ms/step - loss: 0.0290 - val_loss: 0.0326 - lr: 0.0010\n",
      "Epoch 7/250\n",
      "64/64 [==============================] - 0s 5ms/step - loss: 0.0275 - val_loss: 0.0330 - lr: 0.0010\n",
      "Epoch 8/250\n",
      "64/64 [==============================] - 0s 7ms/step - loss: 0.0264 - val_loss: 0.0319 - lr: 0.0010\n",
      "Epoch 9/250\n",
      "64/64 [==============================] - 0s 5ms/step - loss: 0.0248 - val_loss: 0.0323 - lr: 0.0010\n",
      "Epoch 10/250\n",
      "64/64 [==============================] - 0s 5ms/step - loss: 0.0238 - val_loss: 0.0318 - lr: 0.0010\n",
      "Epoch 11/250\n",
      "64/64 [==============================] - 0s 5ms/step - loss: 0.0227 - val_loss: 0.0326 - lr: 0.0010\n",
      "Epoch 12/250\n",
      "64/64 [==============================] - 0s 5ms/step - loss: 0.0218 - val_loss: 0.0330 - lr: 0.0010\n",
      "Epoch 13/250\n",
      "64/64 [==============================] - 0s 5ms/step - loss: 0.0207 - val_loss: 0.0322 - lr: 0.0010\n",
      "Epoch 14/250\n",
      "64/64 [==============================] - 0s 5ms/step - loss: 0.0198 - val_loss: 0.0331 - lr: 0.0010\n",
      "Epoch 15/250\n",
      "64/64 [==============================] - 0s 6ms/step - loss: 0.0192 - val_loss: 0.0330 - lr: 0.0010\n",
      "Epoch 16/250\n",
      "64/64 [==============================] - 0s 5ms/step - loss: 0.0181 - val_loss: 0.0333 - lr: 0.0010\n",
      "Epoch 17/250\n",
      "64/64 [==============================] - 0s 5ms/step - loss: 0.0174 - val_loss: 0.0336 - lr: 0.0010\n",
      "Epoch 18/250\n",
      "64/64 [==============================] - 0s 5ms/step - loss: 0.0167 - val_loss: 0.0340 - lr: 0.0010\n",
      "Epoch 19/250\n",
      "64/64 [==============================] - 0s 5ms/step - loss: 0.0156 - val_loss: 0.0339 - lr: 1.0000e-04\n",
      "Epoch 20/250\n",
      "64/64 [==============================] - 0s 7ms/step - loss: 0.0154 - val_loss: 0.0340 - lr: 1.0000e-04\n",
      "Epoch 21/250\n",
      "64/64 [==============================] - 0s 5ms/step - loss: 0.0153 - val_loss: 0.0341 - lr: 1.0000e-04\n",
      "Epoch 22/250\n",
      "64/64 [==============================] - 0s 6ms/step - loss: 0.0152 - val_loss: 0.0341 - lr: 1.0000e-04\n",
      "Epoch 23/250\n",
      "64/64 [==============================] - 0s 5ms/step - loss: 0.0151 - val_loss: 0.0341 - lr: 1.0000e-04\n",
      "Epoch 24/250\n",
      "64/64 [==============================] - 0s 6ms/step - loss: 0.0150 - val_loss: 0.0342 - lr: 1.0000e-04\n",
      "Epoch 25/250\n",
      "64/64 [==============================] - 0s 5ms/step - loss: 0.0150 - val_loss: 0.0343 - lr: 1.0000e-04\n",
      "Epoch 26/250\n",
      "64/64 [==============================] - 0s 5ms/step - loss: 0.0149 - val_loss: 0.0344 - lr: 1.0000e-04\n",
      "Epoch 27/250\n",
      "64/64 [==============================] - 0s 5ms/step - loss: 0.0148 - val_loss: 0.0344 - lr: 1.0000e-04\n",
      "Epoch 28/250\n",
      "64/64 [==============================] - 0s 5ms/step - loss: 0.0147 - val_loss: 0.0344 - lr: 1.0000e-04\n",
      "Epoch 29/250\n",
      "64/64 [==============================] - 0s 5ms/step - loss: 0.0146 - val_loss: 0.0345 - lr: 1.0000e-05\n",
      "Epoch 30/250\n",
      "64/64 [==============================] - 0s 5ms/step - loss: 0.0146 - val_loss: 0.0345 - lr: 1.0000e-05\n",
      "Epoch 31/250\n",
      "64/64 [==============================] - 0s 5ms/step - loss: 0.0146 - val_loss: 0.0345 - lr: 1.0000e-05\n",
      "Epoch 32/250\n",
      "64/64 [==============================] - 0s 5ms/step - loss: 0.0146 - val_loss: 0.0345 - lr: 1.0000e-05\n",
      "Epoch 33/250\n",
      "64/64 [==============================] - 0s 6ms/step - loss: 0.0145 - val_loss: 0.0345 - lr: 1.0000e-05\n",
      "Epoch 34/250\n",
      "64/64 [==============================] - 0s 5ms/step - loss: 0.0145 - val_loss: 0.0345 - lr: 1.0000e-05\n",
      "Epoch 35/250\n",
      "56/64 [=========================>....] - ETA: 0s - loss: 0.0146Restoring model weights from the end of the best epoch: 10.\n",
      "64/64 [==============================] - 0s 6ms/step - loss: 0.0145 - val_loss: 0.0345 - lr: 1.0000e-05\n",
      "Epoch 35: early stopping\n"
     ]
    }
   ],
   "source": [
    "#Settings\n",
    "input_shape = (384,)\n",
    "in1 = 24\n",
    "in2 = 16\n",
    "layers = [256,64,16]\n",
    "activation = 'relu' #LeakyReLU(alpha=0.1) # 'relu'# 'selu' #LeakyReLU(alpha=0.1) #'relu' #LeakyReLU(alpha=0.1) #'relu' #LeakyReLU(alpha=0.2) # 'selu' # LeakyReLU(alpha=0.2)\n",
    "kernel_init = 'he_normal'  #'he_normal' #HeUniform(seed=505) # LecunNormal(seed=42) #  #'he_normal' # # #'glorot_uniform'# 'he_normal' #'glorot_uniform' #'he_normal' #'glorot_uniform'\n",
    "lr = 0.001\n",
    "epochs = 250\n",
    "batch = 1024\n",
    "# Define encoder\n",
    "model = Sequential()\n",
    "model.add(Lambda(lambda x: x, input_shape=input_shape))\n",
    "for dim in layers:\n",
    "    model.add(Dense(dim, activation=activation, kernel_initializer = kernel_init))\n",
    "    # model.add(BatchNormalization(momentum=0.9))\n",
    "model.add(Dense(npred))\n",
    "# Training Set Up\n",
    "optimizer = Adam(learning_rate = lr)\n",
    "early_stopping = EarlyStopping(monitor='val_loss', patience=25, verbose=1, restore_best_weights=True)\n",
    "loss_function = 'mse'\n",
    "model.compile(optimizer=optimizer, loss=loss_function)\n",
    "model.summary()\n",
    "# Training \n",
    "name = input('Name: ')\n",
    "print(name)\n",
    "reduce_lr_callback = ReduceLROnPlateau(monitor='val_loss', factor=0.1, patience=10) #min_lr=0.0000001\n",
    "history = model.fit(X_train, y_train, epochs=epochs,batch_size=batch,validation_data=(X_test, y_test),callbacks=[reduce_lr_callback, early_stopping]) # 128 or 256, 512, 1024, 2048, 4096\n",
    "# Saving\n",
    "model.save(f'{global_path}/{set_id}/PREDICTOR-{prop}-2D-CNN-layers{layers}-lr{lr}-b{batch}-{name}.h5')\n",
    "with open(f'{global_path}/{set_id}/PREDICTOR-{prop}-HISTORY-2D-CNN-layers{layers}-lr{lr}-b{batch}-{name}.pickle', 'wb') as file:\n",
    "    pickle.dump(history.history, file)\n"
   ]
  },
  {
   "cell_type": "code",
   "execution_count": 9,
   "metadata": {},
   "outputs": [
    {
     "data": {
      "application/vnd.jupyter.widget-view+json": {
       "model_id": "60fd6b50afc349a094433afe7ce9475e",
       "version_major": 2,
       "version_minor": 0
      },
      "text/plain": [
       "HBox(children=(Dropdown(description='Predictor :', options=('PREDICTOR-HR-2D-CNN-cn[32, 16]-fc[192, 48]-lr0.00…"
      ]
     },
     "metadata": {},
     "output_type": "display_data"
    }
   ],
   "source": [
    "# Select saved model\n",
    "files = os.listdir(f'{global_path}/{set_id}/')\n",
    "pred_files = [f for f in files if fnmatch.fnmatch(f, '*PREDICTOR*CNN*test*.h5')]\n",
    "hist_files = [f for f in files if fnmatch.fnmatch(f, '*PREDICTOR*CNN*test*pickle')]\n",
    "pred_widget = widgets.Dropdown(options=pred_files[:],value=pred_files[-1],description='Predictor :',disabled=False,style = {'description_width': 'initial'}); pred_widget \n",
    "hist_widget = widgets.Dropdown(options=hist_files[:],value=hist_files[-1],description='History :',disabled=False,style = {'description_width': 'initial'}); hist_widget \n",
    "layout = widgets.HBox([pred_widget, hist_widget])\n",
    "display(layout)"
   ]
  },
  {
   "cell_type": "code",
   "execution_count": 10,
   "metadata": {},
   "outputs": [
    {
     "name": "stdout",
     "output_type": "stream",
     "text": [
      "Model: \"sequential_4\"\n",
      "_________________________________________________________________\n",
      " Layer (type)                Output Shape              Param #   \n",
      "=================================================================\n",
      " lambda_4 (Lambda)           (None, 24, 16, 1)         0         \n",
      "                                                                 \n",
      " conv2d_16 (Conv2D)          (None, 24, 16, 32)        320       \n",
      "                                                                 \n",
      " batch_normalization_8 (Batc  (None, 24, 16, 32)       128       \n",
      " hNormalization)                                                 \n",
      "                                                                 \n",
      " conv2d_17 (Conv2D)          (None, 12, 8, 32)         4128      \n",
      "                                                                 \n",
      " conv2d_18 (Conv2D)          (None, 12, 8, 16)         4624      \n",
      "                                                                 \n",
      " batch_normalization_9 (Batc  (None, 12, 8, 16)        64        \n",
      " hNormalization)                                                 \n",
      "                                                                 \n",
      " conv2d_19 (Conv2D)          (None, 6, 4, 16)          1040      \n",
      "                                                                 \n",
      " flatten_4 (Flatten)         (None, 384)               0         \n",
      "                                                                 \n",
      " dense_16 (Dense)            (None, 192)               73920     \n",
      "                                                                 \n",
      " dense_17 (Dense)            (None, 48)                9264      \n",
      "                                                                 \n",
      " dense_18 (Dense)            (None, 12)                588       \n",
      "                                                                 \n",
      " dense_19 (Dense)            (None, 3)                 39        \n",
      "                                                                 \n",
      "=================================================================\n",
      "Total params: 94,115\n",
      "Trainable params: 94,019\n",
      "Non-trainable params: 96\n",
      "_________________________________________________________________\n"
     ]
    },
    {
     "data": {
      "image/png": "[encoded data removed]",
      "text/plain": [
       "<Figure size 800x500 with 1 Axes>"
      ]
     },
     "metadata": {},
     "output_type": "display_data"
    }
   ],
   "source": [
    "imperial = '#003E74'\n",
    "imperial2 = '#002147'\n",
    "darkblue = '#003170'\n",
    "harvard = '#A51C30'\n",
    "silver = '#777777'\n",
    "silver2 = '#C0C0C0'\n",
    "gold = '#cfbd62'\n",
    "# Load the selected saved model \n",
    "p = pred_widget.value\n",
    "h = hist_widget.value\n",
    "model = tf.keras.models.load_model(f'{global_path}/{set_id}/{p}')\n",
    "model.summary()\n",
    "with open(f'{global_path}/{set_id}/{h}', 'rb') as file:\n",
    "    summary = pickle.load(file)\n",
    "#plot the training and validation accuracy and loss at each epoch\n",
    "sizefont = 14\n",
    "sizefont2 = 12\n",
    "plt.rcParams.update({'font.size': sizefont})\n",
    "plt.rcParams['font.family'] = 'sans-serif'\n",
    "plt.rcParams['font.sans-serif'] = 'Gill Sans'\n",
    "fig, ax1 = plt.subplots(1, 1, figsize=(8, 5))\n",
    "\n",
    "loss = summary['loss']\n",
    "val_loss = summary['val_loss']\n",
    "epochs = range(1, len(loss) + 1)\n",
    "ax1.plot(epochs, loss, c=gold, label='Training')\n",
    "ax1.plot(epochs, val_loss, c=harvard, linestyle = '-.',label='Validation')\n",
    "ax1.scatter(epochs[-1], val_loss[-1], marker = 'x', c='black',s=70, label='Early Stopping')\n",
    "min_index = val_loss.index(min(val_loss))\n",
    "line = plt.axvline(x=epochs[min_index], color='black',linestyle = '--',label = 'Restored Weights') #52 for stjohns6, 77 for stjohns 16 #61 for 0.001, 128\n",
    "ax1.set_xlabel('Epochs')\n",
    "ax1.set_xlim([0,120])\n",
    "ax1.set_ylabel('Loss')\n",
    "\n",
    "ax1.minorticks_on()\n",
    "ax1.tick_params(which='both', direction='in', top=True, right=True)\n",
    "plt.legend(loc='upper right', frameon=False, fontsize = sizefont2)\n",
    "# plt.legend(loc='upper center', frameon=False, fontsize = sizefont2)\n",
    "plt.show()\n",
    "\n",
    "# from keras.utils import plot_model\n",
    "# plot_model(model, show_shapes=True, show_layer_names=True, to_file='autoencoder.png')\n",
    "\n",
    "# # Load the image and display it\n",
    "# img = plt.imread('autoencoder.png')\n"
   ]
  },
  {
   "cell_type": "code",
   "execution_count": 11,
   "metadata": {},
   "outputs": [
    {
     "data": {
      "application/vnd.jupyter.widget-view+json": {
       "model_id": "12da7cb4ffe14b76aa42d18c897573b3",
       "version_major": 2,
       "version_minor": 0
      },
      "text/plain": [
       "Dropdown(description='Feature :', options=('HR HS', 'HR HM', 'HR MS'), style=DescriptionStyle(description_widt…"
      ]
     },
     "execution_count": 11,
     "metadata": {},
     "output_type": "execute_result"
    }
   ],
   "source": [
    "# y_pred = np.clip(model.predict(X_test),y_min,1)\n",
    "input_widget_1 = widgets.Dropdown(options=desc[:],value=desc[0],description='Feature :',disabled=False,style = {'description_width': 'initial'}); input_widget_1"
   ]
  },
  {
   "cell_type": "code",
   "execution_count": 12,
   "metadata": {},
   "outputs": [
    {
     "ename": "ValueError",
     "evalue": "in user code:\n\n    File \"/Users/steven/tensorflow-test/env/lib/python3.8/site-packages/keras/engine/training.py\", line 2169, in predict_function  *\n        return step_function(self, iterator)\n    File \"/Users/steven/tensorflow-test/env/lib/python3.8/site-packages/keras/engine/training.py\", line 2155, in step_function  **\n        outputs = model.distribute_strategy.run(run_step, args=(data,))\n    File \"/Users/steven/tensorflow-test/env/lib/python3.8/site-packages/keras/engine/training.py\", line 2143, in run_step  **\n        outputs = model.predict_step(data)\n    File \"/Users/steven/tensorflow-test/env/lib/python3.8/site-packages/keras/engine/training.py\", line 2111, in predict_step\n        return self(x, training=False)\n    File \"/Users/steven/tensorflow-test/env/lib/python3.8/site-packages/keras/utils/traceback_utils.py\", line 70, in error_handler\n        raise e.with_traceback(filtered_tb) from None\n    File \"/Users/steven/tensorflow-test/env/lib/python3.8/site-packages/keras/engine/input_spec.py\", line 298, in assert_input_compatibility\n        raise ValueError(\n\n    ValueError: Input 0 of layer \"sequential_4\" is incompatible with the layer: expected shape=(None, 24, 16, 1), found shape=(None, 384)\n",
     "output_type": "error",
     "traceback": [
      "\u001b[0;31m---------------------------------------------------------------------------\u001b[0m",
      "\u001b[0;31mValueError\u001b[0m                                Traceback (most recent call last)",
      "Cell \u001b[0;32mIn[12], line 2\u001b[0m\n\u001b[1;32m      1\u001b[0m \u001b[39mfrom\u001b[39;00m \u001b[39msklearn\u001b[39;00m\u001b[39m.\u001b[39;00m\u001b[39mmetrics\u001b[39;00m \u001b[39mimport\u001b[39;00m mean_squared_error\n\u001b[0;32m----> 2\u001b[0m y_pred \u001b[39m=\u001b[39m model\u001b[39m.\u001b[39;49mpredict(X_test)\n\u001b[1;32m      3\u001b[0m mse_test \u001b[39m=\u001b[39m mean_squared_error(y_test, y_pred)\n\u001b[1;32m      4\u001b[0m \u001b[39mprint\u001b[39m(mse_test)\n",
      "File \u001b[0;32m~/tensorflow-test/env/lib/python3.8/site-packages/keras/utils/traceback_utils.py:70\u001b[0m, in \u001b[0;36mfilter_traceback.<locals>.error_handler\u001b[0;34m(*args, **kwargs)\u001b[0m\n\u001b[1;32m     67\u001b[0m     filtered_tb \u001b[39m=\u001b[39m _process_traceback_frames(e\u001b[39m.\u001b[39m__traceback__)\n\u001b[1;32m     68\u001b[0m     \u001b[39m# To get the full stack trace, call:\u001b[39;00m\n\u001b[1;32m     69\u001b[0m     \u001b[39m# `tf.debugging.disable_traceback_filtering()`\u001b[39;00m\n\u001b[0;32m---> 70\u001b[0m     \u001b[39mraise\u001b[39;00m e\u001b[39m.\u001b[39mwith_traceback(filtered_tb) \u001b[39mfrom\u001b[39;00m \u001b[39mNone\u001b[39;00m\n\u001b[1;32m     71\u001b[0m \u001b[39mfinally\u001b[39;00m:\n\u001b[1;32m     72\u001b[0m     \u001b[39mdel\u001b[39;00m filtered_tb\n",
      "File \u001b[0;32m/var/folders/q1/jbx7qj7s0dxbh7nv02nfvc680000gn/T/__autograph_generated_filepruso4yw.py:15\u001b[0m, in \u001b[0;36mouter_factory.<locals>.inner_factory.<locals>.tf__predict_function\u001b[0;34m(iterator)\u001b[0m\n\u001b[1;32m     13\u001b[0m \u001b[39mtry\u001b[39;00m:\n\u001b[1;32m     14\u001b[0m     do_return \u001b[39m=\u001b[39m \u001b[39mTrue\u001b[39;00m\n\u001b[0;32m---> 15\u001b[0m     retval_ \u001b[39m=\u001b[39m ag__\u001b[39m.\u001b[39mconverted_call(ag__\u001b[39m.\u001b[39mld(step_function), (ag__\u001b[39m.\u001b[39mld(\u001b[39mself\u001b[39m), ag__\u001b[39m.\u001b[39mld(iterator)), \u001b[39mNone\u001b[39;00m, fscope)\n\u001b[1;32m     16\u001b[0m \u001b[39mexcept\u001b[39;00m:\n\u001b[1;32m     17\u001b[0m     do_return \u001b[39m=\u001b[39m \u001b[39mFalse\u001b[39;00m\n",
      "\u001b[0;31mValueError\u001b[0m: in user code:\n\n    File \"/Users/steven/tensorflow-test/env/lib/python3.8/site-packages/keras/engine/training.py\", line 2169, in predict_function  *\n        return step_function(self, iterator)\n    File \"/Users/steven/tensorflow-test/env/lib/python3.8/site-packages/keras/engine/training.py\", line 2155, in step_function  **\n        outputs = model.distribute_strategy.run(run_step, args=(data,))\n    File \"/Users/steven/tensorflow-test/env/lib/python3.8/site-packages/keras/engine/training.py\", line 2143, in run_step  **\n        outputs = model.predict_step(data)\n    File \"/Users/steven/tensorflow-test/env/lib/python3.8/site-packages/keras/engine/training.py\", line 2111, in predict_step\n        return self(x, training=False)\n    File \"/Users/steven/tensorflow-test/env/lib/python3.8/site-packages/keras/utils/traceback_utils.py\", line 70, in error_handler\n        raise e.with_traceback(filtered_tb) from None\n    File \"/Users/steven/tensorflow-test/env/lib/python3.8/site-packages/keras/engine/input_spec.py\", line 298, in assert_input_compatibility\n        raise ValueError(\n\n    ValueError: Input 0 of layer \"sequential_4\" is incompatible with the layer: expected shape=(None, 24, 16, 1), found shape=(None, 384)\n"
     ]
    }
   ],
   "source": [
    "from sklearn.metrics import mean_squared_error\n",
    "y_pred = model.predict(X_test)\n",
    "mse_test = mean_squared_error(y_test, y_pred)\n",
    "print(mse_test)\n",
    "\n",
    "import seaborn as sns\n",
    "import matplotlib.pyplot as plt\n",
    "\n",
    "# prop = ['hard_hs', 'hard_hm','hard_ms']\n",
    "# prop = ['var_prob_b','var_prob_h','var_prob_m', 'var_prob_s']\n",
    "\n",
    "# input_widget = widgets.Dropdown(options=prop[:],value=prop[0],description='Feature :',disabled=False,style = {'description_width': 'initial'}); input_widget\n",
    "\n",
    "c = desc.index(input_widget_1.value)\n",
    "y_test_c = y_test[:,c]\n",
    "y_pred_c = y_pred[:,c]\n",
    "\n",
    "#1\n",
    "\n",
    "# Create a density plot with the predicted values on the x-axis and the actual values on the y-axis\n",
    "sns.kdeplot(y_pred, label='Predicted', linestyle = '--')\n",
    "sns.kdeplot(y_test, label='Actual', linestyle = '-')\n",
    "plt.xlabel('Value')\n",
    "plt.ylabel('Density')\n",
    "plt.title(f'Predicted vs Actual: {input_widget_1.value}')\n",
    "plt.legend()\n",
    "plt.show()\n",
    "\n",
    "#2\n",
    "\n",
    "# Create a scatter plot with the predicted values on the x-axis and the actual values on the y-axis\n",
    "plt.scatter(y_pred_c, y_test_c, s=0.5)\n",
    "plt.plot([y_pred.min(), y_pred.max()], [y_pred.min(), y_pred.max()], 'k--')\n",
    "plt.xlabel('Predicted')\n",
    "plt.ylabel('Actual')\n",
    "plt.title(f'Predicted vs Actual: {input_widget_1.value}')\n",
    "plt.show()\n",
    "\n",
    "\n",
    "#3\n",
    "sns.kdeplot(x=y_pred_c, y=y_test_c,fill=0, thresh=0.3,legend=True)\n",
    "plt.plot([y_pred.min(), y_pred.max()], [y_pred.min(), y_pred.max()], 'k--')\n",
    "plt.xlabel('Predicted')\n",
    "plt.ylabel('Actual')\n",
    "plt.title(f'Predicted vs Actual: {input_widget_1.value}')\n",
    "plt.show()"
   ]
  }
 ],
 "metadata": {
  "kernelspec": {
   "display_name": "ciao-4.15",
   "language": "python",
   "name": "python3"
  },
  "language_info": {
   "codemirror_mode": {
    "name": "ipython",
    "version": 3
   },
   "file_extension": ".py",
   "mimetype": "text/x-python",
   "name": "python",
   "nbconvert_exporter": "python",
   "pygments_lexer": "ipython3",
   "version": "3.8.16"
  },
  "orig_nbformat": 4
 },
 "nbformat": 4,
 "nbformat_minor": 2
}
