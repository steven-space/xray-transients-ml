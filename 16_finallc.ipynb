{
 "cells": [
  {
   "attachments": {},
   "cell_type": "markdown",
   "metadata": {},
   "source": [
    "I. Set Up"
   ]
  },
  {
   "cell_type": "code",
   "execution_count": 1,
   "metadata": {},
   "outputs": [
    {
     "data": {
      "application/vnd.jupyter.widget-view+json": {
       "model_id": "d9bebdde03e0445bbb0d60be1ae7333f",
       "version_major": 2,
       "version_minor": 0
      },
      "text/plain": [
       "Dropdown(description='Set :', options=('Full', 'All', 'Full_extra', 'New', 'Bona'), value='Full')"
      ]
     },
     "execution_count": 1,
     "metadata": {},
     "output_type": "execute_result"
    }
   ],
   "source": [
    "# PYTHON Imports \n",
    "import pandas as pd\n",
    "pd.options.mode.chained_assignment = None\n",
    "import numpy as np\n",
    "import matplotlib.pyplot as plt\n",
    "from matplotlib.colors import LogNorm\n",
    "from pathlib import Path\n",
    "import glob\n",
    "import ipywidgets as widgets\n",
    "from IPython.display import clear_output\n",
    "import random\n",
    "import math\n",
    "# ASTROPHY Imports\n",
    "import astropy \n",
    "from astropy.table import Table\n",
    "from astropy.io import fits\n",
    "import astropy.stats as astats\n",
    "import hepstats\n",
    "from hepstats import *\n",
    "# CIAO Imports\n",
    "import ciao_contrib.runtool\n",
    "from ciao_contrib.runtool import *\n",
    "from ciao_contrib.runtool import search_csc, obsid_search_csc\n",
    "from sherpa.astro import ui\n",
    "import bxa.sherpa as bxa\n",
    "\n",
    "# CUSTOM Imports\n",
    "from data_exploration_functions import *\n",
    "from data_extraction_functions import *\n",
    "from data_representation_functions import *\n",
    "\n",
    "def list_folders_fun(path):\n",
    "    \"\"\"\n",
    "    DESCRIPTION: List folders in a given directory.\n",
    "    INPUT: Directory path\n",
    "    OUTPUT: Folder names in a given directory\n",
    "    \"\"\"\n",
    "    folder_list = [f.name for f in Path(path).iterdir() if f.is_dir()]\n",
    "    return folder_list\n",
    "\n",
    "# Specify global path\n",
    "global_path = '/Users/steven/Library/Mobile Documents/com~apple~CloudDocs/0-CfA/4-Data/Datasets'\n",
    "global_folders = list_folders_fun(global_path)\n",
    "\n",
    "# Select dataset\n",
    "set_widget = widgets.Dropdown(options=global_folders[:],value=global_folders[0],description='Set :',disabled=False); set_widget"
   ]
  },
  {
   "attachments": {},
   "cell_type": "markdown",
   "metadata": {},
   "source": [
    "II. Load Data"
   ]
  },
  {
   "cell_type": "code",
   "execution_count": 8,
   "metadata": {},
   "outputs": [],
   "source": [
    "BEHR_DIR = '/Users/steven/Desktop/BBBB/BEHR'\n",
    "DATA_DIR = '/Users/steven/Desktop/CSCData/23022need/'\n",
    "evt_file = glob.glob(f'{DATA_DIR}*evt6*')[0]\n",
    "regevt = glob.glob(f'{DATA_DIR}*evt6_filtered*')[0]\n",
    "src_region = glob.glob(f'{DATA_DIR}*reg6*')[0]\n",
    "bkg_region = glob.glob(f'{DATA_DIR}*bkg6*')[0]\n",
    "bevt = glob.glob(f'{DATA_DIR}*evt6_back*')[0]\n",
    "\n",
    "with fits.open(regevt) as hdul:\n",
    "    # Events dataframe\n",
    "    events = hdul[\"Events\"].data\n",
    "    events_table = Table(events)\n",
    "    events_cols = events.columns.names\n",
    "    df_events = pd.DataFrame.from_records(events_table, columns=events_cols)\n",
    "    df_events = df_events.sort_values(by=[\"time\"])\n",
    "    # GTI (Good Time Interval) dataframe\n",
    "    gti = hdul[\"GTI\"].data\n",
    "    gti_table = Table(gti)\n",
    "    gti_cols = gti.columns.names\n",
    "    df_gti = pd.DataFrame.from_records(gti_table, columns=gti_cols)\n",
    "    # Apply GTI filter to events\n",
    "    gti_mask = np.zeros(len(df_events), dtype=bool)\n",
    "    for i in range(len(df_gti)):\n",
    "        start = df_gti.iloc[i]['START']\n",
    "        stop = df_gti.iloc[i]['STOP']\n",
    "        gti_mask |= (df_events[\"time\"] >= start) & (df_events[\"time\"] < stop)\n",
    "    df_events = df_events[gti_mask]\n",
    "    # Apply energy, pha, grade filters to events\n",
    "    df_events = df_events[(df_events['pha']>40) & (df_events['grade']>=0) & (df_events['energy']>500) & (df_events['energy']<7000)]\n",
    "    start_time = min(df_events.time.values)\n",
    "    src_times = df_events.time.values - start_time\n",
    "    src_energies = df_events.energy.values\n",
    "\n",
    "with fits.open(bevt) as hdul:\n",
    "    # Events dataframe\n",
    "    bevents = hdul[\"Events\"].data\n",
    "    bevents_table = Table(bevents)\n",
    "    bevents_cols = bevents.columns.names\n",
    "    df_bevents = pd.DataFrame.from_records(bevents_table, columns=bevents_cols)\n",
    "    df_bevents = df_bevents.sort_values(by=[\"time\"])\n",
    "    # GTI (Good Time Interval) dataframe\n",
    "    bgti = hdul[\"GTI\"].data\n",
    "    bgti_table = Table(bgti)\n",
    "    bgti_cols = bgti.columns.names\n",
    "    df_bgti = pd.DataFrame.from_records(bgti_table, columns=bgti_cols)\n",
    "    # Apply GTI filter to events\n",
    "    bgti_mask = np.zeros(len(df_bevents), dtype=bool)\n",
    "    for i in range(len(df_bgti)):\n",
    "        start = df_bgti.iloc[i]['START']\n",
    "        stop = df_bgti.iloc[i]['STOP']\n",
    "        bgti_mask |= (df_bevents[\"time\"] >= start) & (df_bevents[\"time\"] < stop)\n",
    "    df_bevents = df_bevents[bgti_mask]\n",
    "    # Apply energy, pha, grade filters to events\n",
    "    df_bevents = df_bevents[(df_bevents['pha']>40) & (df_bevents['grade']>=0) & (df_bevents['energy']>500) & (df_bevents['energy']<7000)]\n",
    "    bkg_times = df_bevents.time.values - start_time\n",
    "    bkg_energies = df_bevents.energy.values"
   ]
  },
  {
   "cell_type": "code",
   "execution_count": 9,
   "metadata": {},
   "outputs": [
    {
     "name": "stderr",
     "output_type": "stream",
     "text": [
      "No artists with labels found to put in legend.  Note that artists whose label start with an underscore are ignored when legend() is called with no argument.\n"
     ]
    },
    {
     "name": "stdout",
     "output_type": "stream",
     "text": [
      "22634.12873506546\n",
      "24122.964715480804\n"
     ]
    },
    {
     "data": {
      "image/png": "[encoded data removed]",
      "text/plain": [
       "<Figure size 800x600 with 2 Axes>"
      ]
     },
     "metadata": {},
     "output_type": "display_data"
    }
   ],
   "source": [
    "time = src_times[20:]\n",
    "counts = np.ones(len(time))\n",
    "\n",
    "mflux_con = 2.9013e-11\n",
    "\n",
    "col = 'black'\n",
    "\n",
    "import statistics\n",
    "\n",
    "count_per_bin = 10\n",
    "counts = np.ones(len(time))\n",
    "num_bins = len(time) // count_per_bin\n",
    "bb_bins = [time[i * count_per_bin] for i in range(num_bins)]\n",
    "bb_bins.append(time[-1])\n",
    "bb_bins = np.array(bb_bins)\n",
    "time_bin = (bb_bins[:-1] + bb_bins[1:]) / 2\n",
    "binned_counts, _ = np.histogram(time, bins=bb_bins, weights=counts)\n",
    "time_bin_size = bb_bins[1] - bb_bins[0]\n",
    "count_rate = binned_counts / time_bin_size\n",
    "\n",
    "# binned_counts = [len(counts[i:i+bin_size]) for i in range(0, len(counts), bin_size)]\n",
    "# time_stamps = [statistics.mean(time[i:i+bin_size]) for i in range(0, len(time)-bin_size+1, bin_size)]\n",
    "# time_durations = [time[i+bin_size-1] - time[i] for i in range(0, len(time)-bin_size+1, bin_size)]\n",
    "# count_rate = [count / duration for count, duration in zip(binned_counts, time_durations)]\n",
    "# poisson_errors = [math.sqrt(c) for c in count_rate]\n",
    "\n",
    "# binned_start_time = [time[i] for i in range(0, len(time), bin_size)]\n",
    "# end_time_bins = [time[i+bin_size-1] for i in range(0, len(time)-bin_size+1, bin_size)]\n",
    "\n",
    "# # Print the binned start time, number of bins, time stamp, time duration, and count rate for each bin\n",
    "# for start_time, count, time_stamp, duration, rate in zip(binned_start_time, binned_counts, time_stamps, time_durations, count_rate):\n",
    "#     print(\"Start Time: \", start_time)\n",
    "#     print(\"Number of Bins: \", count)\n",
    "#     print(\"Time Stamp: \", time_stamp)\n",
    "#     print(\"Time Duration: \", duration)\n",
    "#     print(\"Count Rate: \", rate)\n",
    "#     print()\n",
    "\n",
    "\n",
    "# Define Font Settings\n",
    "plt.rcParams.update({'font.size': 15})\n",
    "plt.rcParams['font.family'] = 'sans-serif'\n",
    "plt.rcParams['font.sans-serif'] = 'Gill Sans'\n",
    "# plt.xlabel('Energy [keV]')\n",
    "# plt.ylabel('Count Rate [1/s/keV]')\n",
    "fig, (ax1, ax2) = plt.subplots(2, 1, figsize=(8, 6),gridspec_kw={'height_ratios': [5, 2]},sharex=True)\n",
    "\n",
    "ax1.plot(time_bin,count_rate, color=col,linestyle='',marker='.')\n",
    "ax1.set_yscale('log')\n",
    "# ax1.set_ylim(0.01, 10)\n",
    "ax2.set_xscale('log')\n",
    "# ax2.set_xlim(10000, 100000)\n",
    "ax1.tick_params(which='both', direction='in', top=True, right=True)\n",
    "ax1.minorticks_on()\n",
    "ax1.legend(loc='upper left', frameon=False, fontsize = 14)\n",
    "# ax1.set_xlim([time[0],time[-1]])\n",
    "\n",
    "print(time[0])\n",
    "print(time[-1])\n",
    "# # Add x-error bars as lines\n",
    "# for x, y, yerr, xlo, xhi in zip(time_stamps, count_rate, poisson_errors, binned_start_time, end_time_bins):\n",
    "#     ax1.errorbar(x, y, yerr=yerr, xerr=[[x - xlo], [xhi - x]], fmt='none', ecolor=col, linewidth=1.5, capsize=0)\n",
    "\n",
    "plt.subplots_adjust(hspace=0)\n",
    "# plt.tight_layout()\n",
    "plt.show()"
   ]
  }
 ],
 "metadata": {
  "kernelspec": {
   "display_name": "ciao-4.15",
   "language": "python",
   "name": "python3"
  },
  "language_info": {
   "codemirror_mode": {
    "name": "ipython",
    "version": 3
   },
   "file_extension": ".py",
   "mimetype": "text/x-python",
   "name": "python",
   "nbconvert_exporter": "python",
   "pygments_lexer": "ipython3",
   "version": "3.8.16"
  },
  "orig_nbformat": 4,
  "vscode": {
   "interpreter": {
    "hash": "aa0ed6ea5fdefd83fab7eb4cb6966f67b14a46d682529109a8514cc91561ea32"
   }
  }
 },
 "nbformat": 4,
 "nbformat_minor": 2
}
