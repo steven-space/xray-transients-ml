{
 "cells": [
  {
   "attachments": {},
   "cell_type": "markdown",
   "metadata": {},
   "source": [
    "# I. Set Up"
   ]
  },
  {
   "cell_type": "code",
   "execution_count": 2,
   "metadata": {},
   "outputs": [
    {
     "data": {
      "application/vnd.jupyter.widget-view+json": {
       "model_id": "c66428b36d1046a69bbfa2a3c3e978e4",
       "version_major": 2,
       "version_minor": 0
      },
      "text/plain": [
       "Dropdown(description='Set :', index=1, options=('All', 'Bona'), value='Bona')"
      ]
     },
     "execution_count": 2,
     "metadata": {},
     "output_type": "execute_result"
    }
   ],
   "source": [
    "# PYTHON Imports \n",
    "import pandas as pd\n",
    "pd.options.mode.chained_assignment = None\n",
    "import numpy as np\n",
    "import math\n",
    "import statistics\n",
    "import matplotlib.pyplot as plt\n",
    "from matplotlib.colors import LogNorm\n",
    "from pathlib import Path\n",
    "import glob\n",
    "import ipywidgets as widgets\n",
    "from IPython.display import clear_output\n",
    "import sys\n",
    "import time\n",
    "import json\n",
    "# ASTROPHY Imports\n",
    "import astropy \n",
    "from astropy.table import Table\n",
    "from astropy.io import fits\n",
    "from sherpa.astro import ui\n",
    "# CIAO Imports\n",
    "import ciao_contrib.runtool\n",
    "from ciao_contrib.runtool import *\n",
    "# CUSTOM Imports\n",
    "from data_extraction_functions import *\n",
    "from data_exploration_functions import *\n",
    "from data_representation_functions import *\n",
    "\n",
    "# Specify global path\n",
    "global_path = '/Users/steven/Library/Mobile Documents/com~apple~CloudDocs/0-CfA/4-Data/Datasets'\n",
    "global_folders = list_folders_fun(global_path)\n",
    "\n",
    "# Define a custom encoder that knows how to handle NumPy arrays\n",
    "class NumpyEncoder(json.JSONEncoder):\n",
    "    def default(self, obj):\n",
    "        if isinstance(obj, np.ndarray):\n",
    "            return obj.tolist()  # convert numpy array to list\n",
    "        return json.JSONEncoder.default(self, obj)\n",
    "\n",
    "# Select dataset\n",
    "set_widget = widgets.Dropdown(options=global_folders[:],value=global_folders[1],description='Set :',disabled=False); set_widget"
   ]
  },
  {
   "attachments": {},
   "cell_type": "markdown",
   "metadata": {},
   "source": [
    "II. Load Data"
   ]
  },
  {
   "cell_type": "code",
   "execution_count": 3,
   "metadata": {},
   "outputs": [
    {
     "name": "stdout",
     "output_type": "stream",
     "text": [
      "Number of Eventfiles:  82283\n"
     ]
    }
   ],
   "source": [
    "# Set ID\n",
    "set_id = set_widget.value\n",
    "# Load eventfiles and properties\n",
    "df_eventfiles_input = pd.read_csv(f'{global_path}/{set_id}/eventfiles-input-{set_id}.csv')\n",
    "df_eventfiles_group = df_eventfiles_input.groupby('obsreg_id')\n",
    "print(\"Number of Eventfiles: \", df_eventfiles_group.ngroups)\n"
   ]
  },
  {
   "attachments": {},
   "cell_type": "markdown",
   "metadata": {},
   "source": [
    "# III. Create features"
   ]
  },
  {
   "attachments": {},
   "cell_type": "markdown",
   "metadata": {},
   "source": [
    "2D E-t Histogram"
   ]
  },
  {
   "cell_type": "code",
   "execution_count": 3,
   "metadata": {},
   "outputs": [
    {
     "name": "stdout",
     "output_type": "stream",
     "text": [
      "Counter: 82283 of 82283\n",
      "DONE!!!\n"
     ]
    }
   ],
   "source": [
    "# Binning Settings\n",
    "nbins_E = 20\n",
    "nbins_t = 30\n",
    "normalised = 'none'\n",
    "\n",
    "# Initialise dictionary lists\n",
    "feature_list = []\n",
    "id_list = []\n",
    "# Initialise counters\n",
    "count = 0\n",
    "count_limit = df_eventfiles_group.ngroups\n",
    "\n",
    "for id_name, dfi in df_eventfiles_group:\n",
    "    id_list.append(id_name)\n",
    "    #lc_plotter_fun(dfi,id_name,100)\n",
    "    #fig,axs=plt.subplots(1,3,figsize=(12,2),constrained_layout = True)\n",
    "    #plt.subplot(1, 3, 1)\n",
    "    feature_list.append(hist2D_Et(dfi, id_name, nbins_E, nbins_t,norm = normalised,plot=False))\n",
    "    count = count+1\n",
    "    clear_output(wait=True)\n",
    "    print(f'Counter: {count} of {count_limit}')\n",
    "print(f'DONE!!!')\n",
    "\n",
    "# hist_dict = dict(zip(id_list, feature_list))\n",
    "# with open(f'{global_path}/{set_id}/histEt-{set_id}-nE{nbins_E}-nt{nbins_t}-norm{normalised}.json', 'w') as f:\n",
    "#     json.dump(hist_dict, f,cls=NumpyEncoder)\n",
    "\n",
    "hist_dict = dict(zip(id_list, feature_list))\n",
    "with open(f'{global_path}/{set_id}/histEt-{set_id}-nE{nbins_E}-nt{nbins_t}-norm{normalised}.pkl', 'wb') as f:\n",
    "    pickle.dump(hist_dict, f)\n"
   ]
  },
  {
   "attachments": {},
   "cell_type": "markdown",
   "metadata": {},
   "source": [
    "3D Histogram"
   ]
  },
  {
   "cell_type": "code",
   "execution_count": 4,
   "metadata": {},
   "outputs": [
    {
     "name": "stdout",
     "output_type": "stream",
     "text": [
      "Counter: 82283 of 82283\n",
      "DONE!!!\n"
     ]
    }
   ],
   "source": [
    "# Binning Settings\n",
    "nbins_E = 17 #20 #17\n",
    "nbins_t = 25 #30 #?25\n",
    "nbins_dt = 26#35 #26\n",
    "# Initialise dictionary lists\n",
    "feature_list = []\n",
    "id_list = []\n",
    "# Initialise counters\n",
    "count = 0\n",
    "count_limit = df_eventfiles_group.ngroups\n",
    "\n",
    "for id_name, dfi in df_eventfiles_group:\n",
    "    id_list.append(id_name)\n",
    "    count = count+1\n",
    "    clear_output(wait=True)\n",
    "    feature_list.append(hist3D(dfi, id_name, nbins_E, nbins_t,nbins_dt,plot=False))\n",
    "    print(f'Counter: {count} of {count_limit}')\n",
    "print(f'DONE!!!')\n",
    "\n",
    "hist_dict = dict(zip(id_list, feature_list))\n",
    "with open(f'{global_path}/{set_id}/hist3D-{set_id}-nE{nbins_E}-nt{nbins_t}-ndt{nbins_dt}.pkl', 'wb') as f:\n",
    "    pickle.dump(hist_dict, f)"
   ]
  },
  {
   "cell_type": "code",
   "execution_count": null,
   "metadata": {},
   "outputs": [],
   "source": [
    "hist_dict = dict(zip(id_list, feature_list))\n",
    "with open(f'{global_path}/{set_id}/hist3D-{set_id}-nE{nbins_E}-nt{nbins_t}-ndt{nbins_dt}.pkl', 'wb') as f:\n",
    "    pickle.dump(hist_dict, f)"
   ]
  },
  {
   "cell_type": "code",
   "execution_count": null,
   "metadata": {},
   "outputs": [],
   "source": [
    "with open(f'{global_path}/{set_id}/hist3D-{set_id}-nE{nbins_E}-nt{nbins_t}-ndt{nbins_dt}.pkl', 'rb') as f:\n",
    "    hist_dict = pickle.load(f)"
   ]
  }
 ],
 "metadata": {
  "kernelspec": {
   "display_name": "ciao-4.15",
   "language": "python",
   "name": "python3"
  },
  "language_info": {
   "codemirror_mode": {
    "name": "ipython",
    "version": 3
   },
   "file_extension": ".py",
   "mimetype": "text/x-python",
   "name": "python",
   "nbconvert_exporter": "python",
   "pygments_lexer": "ipython3",
   "version": "3.10.9"
  },
  "orig_nbformat": 4,
  "vscode": {
   "interpreter": {
    "hash": "aa0ed6ea5fdefd83fab7eb4cb6966f67b14a46d682529109a8514cc91561ea32"
   }
  }
 },
 "nbformat": 4,
 "nbformat_minor": 2
}
