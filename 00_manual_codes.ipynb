{
 "cells": [
  {
   "attachments": {},
   "cell_type": "markdown",
   "metadata": {},
   "source": [
    "I. Set Up"
   ]
  },
  {
   "cell_type": "code",
   "execution_count": 1,
   "metadata": {},
   "outputs": [
    {
     "data": {
      "application/vnd.jupyter.widget-view+json": {
       "model_id": "c9dc593a800e4686ad5e38d0fb9a79ad",
       "version_major": 2,
       "version_minor": 0
      },
      "text/plain": [
       "Dropdown(description='Set :', options=('All', 'Bona'), value='All')"
      ]
     },
     "execution_count": 1,
     "metadata": {},
     "output_type": "execute_result"
    }
   ],
   "source": [
    "# PYTHON Imports \n",
    "import pandas as pd\n",
    "pd.options.mode.chained_assignment = None\n",
    "import numpy as np\n",
    "import matplotlib.pyplot as plt\n",
    "from pathlib import Path\n",
    "import glob\n",
    "import ipywidgets as widgets\n",
    "from IPython.display import clear_output\n",
    "import statistics\n",
    "# ASTROPHY Imports\n",
    "import astropy \n",
    "from astropy.table import Table\n",
    "from astropy.io import fits\n",
    "# CIAO Imports\n",
    "import ciao_contrib.runtool\n",
    "from ciao_contrib.runtool import *\n",
    "# CUSTOM Imports\n",
    "from data_exploration_functions import *\n",
    "from data_representation_functions import *\n",
    "\n",
    "# Specify global path\n",
    "global_path = '/Users/steven/Library/Mobile Documents/com~apple~CloudDocs/0-CfA/4-Data/Datasets'\n",
    "global_folders = list_folders_fun(global_path)\n",
    "\n",
    "# Select dataset\n",
    "set_widget = widgets.Dropdown(options=global_folders[:],value=global_folders[0],description='Set :',disabled=False); set_widget"
   ]
  },
  {
   "attachments": {},
   "cell_type": "markdown",
   "metadata": {},
   "source": [
    "Filter for N > 40 length"
   ]
  },
  {
   "cell_type": "code",
   "execution_count": 2,
   "metadata": {},
   "outputs": [],
   "source": [
    "# Set ID\n",
    "set_id = set_widget.value\n",
    "# Reduce data for useful input to data representation\n",
    "df_eventfiles = pd.read_csv(f'{global_path}/{set_id}/eventfiles-{set_id}.csv')\n",
    "df_properties = pd.read_csv(f'{global_path}/{set_id}/properties-{set_id}.csv')\n",
    "\n",
    "\n",
    "df_eventfiles_input, df_properties_input = data_reduction_fun(df_eventfiles, df_properties,global_path,set_id, min_counts = 50,unique_ids=True)\n",
    "\n",
    "# df_eventfiles.to_csv(f'{global_path}/{set_id}/eventfiles-{set_id}.csv',index=False)\n",
    "# df_properties.to_csv(f'{global_path}/{set_id}/properties-{set_id}.csv',index=False)\n",
    "\n",
    "# # filter rows where there are less than 30 identical values in column 'B'\n",
    "# mask = df['B'].isin(counts[counts >= 30].index)\n",
    "\n",
    "# # create new DataFrame without the filtered rows\n",
    "# new_df = df[mask]\n",
    "\n"
   ]
  },
  {
   "cell_type": "code",
   "execution_count": 6,
   "metadata": {},
   "outputs": [
    {
     "name": "stdout",
     "output_type": "stream",
     "text": [
      "62989\n",
      "62989\n",
      "63020\n",
      "62989\n",
      "63020\n",
      "       cnts_aper_b  cnts_aperbkg_b  src_cnts_aper_b   flux_aper_b   hard_hm  \\\n",
      "95356          160              66       165.904303  1.252943e-13  0.914428   \n",
      "95360           86              21        90.469791  1.252943e-13  0.963148   \n",
      "96423          253             511       240.714066  2.899196e-14  0.234853   \n",
      "96436           39             144        34.576335  2.899196e-14  0.224859   \n",
      "95730           54              49        55.741454  2.057922e-15  0.999375   \n",
      "...            ...             ...              ...           ...       ...   \n",
      "85565           94              77        94.278217  1.181298e-13  0.357277   \n",
      "17704          265            1179       217.610196  5.315461e-14  0.273579   \n",
      "17703          203            1009       161.987217  5.315461e-14  0.428482   \n",
      "17684           93              80        92.307372  4.227679e-14  0.833229   \n",
      "17685          119              99       118.200006  4.227679e-14  0.809494   \n",
      "\n",
      "        hard_hs   hard_ms  var_prob_b  var_prob_h  var_prob_m  var_prob_s  \\\n",
      "95356  0.999375  0.999375    0.067152    0.159490    0.493821         NaN   \n",
      "95360  0.999375  0.999375    0.161982    0.143328         NaN         NaN   \n",
      "96423  0.594628  0.415990    0.538229    0.292568    0.318522    0.378357   \n",
      "96436  0.733292  0.598376    0.122557    0.143254    0.168494         NaN   \n",
      "95730  0.999375 -0.999375    0.212807    0.212807         NaN         NaN   \n",
      "...         ...       ...         ...         ...         ...         ...   \n",
      "85565  0.540912  0.222361    0.105237    0.139892    0.306577    0.695189   \n",
      "17704  0.422236  0.164897    0.102190    0.132039    0.081864    0.211628   \n",
      "17703  0.403498 -0.034978    0.082147    0.269873    0.438020    0.388438   \n",
      "17684  0.999375  0.999375    0.143360    0.096288    0.458362         NaN   \n",
      "17685  0.999375  0.999375    0.071792    0.124409    0.517203         NaN   \n",
      "\n",
      "       obsreg_id  \n",
      "95356  1561_3955  \n",
      "95360  1561_3955  \n",
      "96423  1561_5461  \n",
      "96436  1561_5461  \n",
      "95730  1561_6129  \n",
      "...          ...  \n",
      "85565     800_39  \n",
      "17704      943_8  \n",
      "17703      943_8  \n",
      "17684     943_91  \n",
      "17685     943_91  \n",
      "\n",
      "[62 rows x 12 columns]\n"
     ]
    }
   ],
   "source": [
    "print(len(df_eventfiles_input['obsreg_id'].unique()))\n",
    "print(len(df_properties_input['obsreg_id'].unique()))\n",
    "print(len(df_properties_input['obsreg_id']))\n",
    "\n",
    "# count unique values in the 'obsreg_id' column\n",
    "print(len(df_properties_input['obsreg_id'].unique())) # 11\n",
    "\n",
    "# count total values in the 'obsreg_id' column\n",
    "print(len(df_properties_input['obsreg_id'])) # 12\n",
    "\n",
    "# identify duplicate values in the 'obsreg_id' column\n",
    "duplicates = df_properties_input[df_properties_input.duplicated(['obsreg_id'], keep=False)]\n",
    "print(duplicates)"
   ]
  },
  {
   "attachments": {},
   "cell_type": "markdown",
   "metadata": {},
   "source": [
    "Filter Pileup Properties file"
   ]
  },
  {
   "cell_type": "code",
   "execution_count": 5,
   "metadata": {},
   "outputs": [],
   "source": [
    "# Set ID\n",
    "set_id = set_widget.value\n",
    "# Reduce data for useful input to data representation\n",
    "df_eventfiles = pd.read_csv(f'{global_path}/{set_id}/eventfiles-{set_id}.csv')\n",
    "df_properties_full = pd.read_csv(f'{global_path}/{set_id}/properties-{set_id}-full.csv')\n",
    "df_properties_full['obsreg_id'] = df_properties_full['obsid'].astype(str) + '_' + df_properties_full['region_id'].astype(str)\n",
    "df_properties_pileup = pd.read_csv(f'{global_path}/{set_id}/properties-{set_id}-pileup.csv')\n",
    "df_properties_pileup['obsreg_id'] = df_properties_pileup['obsid'].astype(str) + '_' + df_properties_pileup['region_id'].astype(str)\n",
    "df_properties = df_properties_full[~df_properties_full['obsreg_id'].isin(df_properties_pileup['obsreg_id'].unique())]\n",
    "\n",
    "df_properties.to_csv(f'{global_path}/{set_id}/properties-{set_id}.csv',index=False)\n",
    "\n"
   ]
  },
  {
   "cell_type": "code",
   "execution_count": 2,
   "metadata": {},
   "outputs": [
    {
     "name": "stdout",
     "output_type": "stream",
     "text": [
      "0.032141223071846525 50.10557203183708\n"
     ]
    }
   ],
   "source": [
    "from astropy.coordinates import SkyCoord\n",
    "import astropy.units as u\n",
    "\n",
    "# Define the sky position in equatorial coordinates (RA and Dec in degrees)\n",
    "ra = 0.032141223071846525 # 10.68458\n",
    "dec = 50.10557203183708 # 41.26917\n",
    "\n",
    "# Convert the sky position to the ICRS format using astropy\n",
    "icrs_coord = SkyCoord(ra=ra*u.deg, dec=dec*u.deg, frame='icrs')\n",
    "\n",
    "# Print the ICRS coordinates in decimal degrees\n",
    "print(icrs_coord.ra.deg, icrs_coord.dec.deg)"
   ]
  }
 ],
 "metadata": {
  "kernelspec": {
   "display_name": "ciao-4.15",
   "language": "python",
   "name": "python3"
  },
  "language_info": {
   "codemirror_mode": {
    "name": "ipython",
    "version": 3
   },
   "file_extension": ".py",
   "mimetype": "text/x-python",
   "name": "python",
   "nbconvert_exporter": "python",
   "pygments_lexer": "ipython3",
   "version": "3.10.9"
  },
  "orig_nbformat": 4,
  "vscode": {
   "interpreter": {
    "hash": "aa0ed6ea5fdefd83fab7eb4cb6966f67b14a46d682529109a8514cc91561ea32"
   }
  }
 },
 "nbformat": 4,
 "nbformat_minor": 2
}
