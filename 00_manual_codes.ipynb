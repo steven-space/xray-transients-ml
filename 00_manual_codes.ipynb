{
 "cells": [
  {
   "attachments": {},
   "cell_type": "markdown",
   "metadata": {},
   "source": [
    "I. Set Up"
   ]
  },
  {
   "cell_type": "code",
   "execution_count": 2,
   "metadata": {},
   "outputs": [
    {
     "data": {
      "application/vnd.jupyter.widget-view+json": {
       "model_id": "40da4f7b8e654f5e8586e184c4a0fcfe",
       "version_major": 2,
       "version_minor": 0
      },
      "text/plain": [
       "Dropdown(description='Set :', options=('All', 'Bona', 'Reduced'), value='All')"
      ]
     },
     "execution_count": 2,
     "metadata": {},
     "output_type": "execute_result"
    }
   ],
   "source": [
    "# PYTHON Imports \n",
    "import pandas as pd\n",
    "pd.options.mode.chained_assignment = None\n",
    "import numpy as np\n",
    "import matplotlib.pyplot as plt\n",
    "from pathlib import Path\n",
    "import glob\n",
    "import ipywidgets as widgets\n",
    "from IPython.display import clear_output\n",
    "import statistics\n",
    "# ASTROPHY Imports\n",
    "import astropy \n",
    "from astropy.table import Table\n",
    "from astropy.io import fits\n",
    "# CIAO Imports\n",
    "import ciao_contrib.runtool\n",
    "from ciao_contrib.runtool import *\n",
    "# CUSTOM Imports\n",
    "from data_exploration_functions import *\n",
    "from data_representation_functions import *\n",
    "\n",
    "# Specify global path\n",
    "global_path = '/Users/steven/Library/Mobile Documents/com~apple~CloudDocs/0-CfA/4-Data/Datasets'\n",
    "global_folders = list_folders_fun(global_path)\n",
    "\n",
    "# Select dataset\n",
    "set_widget = widgets.Dropdown(options=global_folders[:],value=global_folders[0],description='Set :',disabled=False); set_widget"
   ]
  },
  {
   "attachments": {},
   "cell_type": "markdown",
   "metadata": {},
   "source": [
    "Filter for N > 40 length"
   ]
  },
  {
   "cell_type": "code",
   "execution_count": 3,
   "metadata": {},
   "outputs": [],
   "source": [
    "# Set ID\n",
    "set_id = set_widget.value\n",
    "# Reduce data for useful input to data representation\n",
    "df_eventfiles = pd.read_csv(f'{global_path}/{set_id}/eventfiles-{set_id}.csv')\n",
    "df_properties = pd.read_csv(f'{global_path}/{set_id}/properties-{set_id}.csv')\n",
    "\n",
    "# df_eventfiles.to_csv(f'{global_path}/{set_id}/eventfiles-{set_id}.csv',index=False)\n",
    "# df_properties.to_csv(f'{global_path}/{set_id}/properties-{set_id}.csv',index=False)\n",
    "\n",
    "\n",
    "\n",
    "# # filter rows where there are less than 30 identical values in column 'B'\n",
    "# mask = df['B'].isin(counts[counts >= 30].index)\n",
    "\n",
    "# # create new DataFrame without the filtered rows\n",
    "# new_df = df[mask]"
   ]
  },
  {
   "attachments": {},
   "cell_type": "markdown",
   "metadata": {},
   "source": [
    "Filter Pileup Properties file"
   ]
  },
  {
   "cell_type": "code",
   "execution_count": 5,
   "metadata": {},
   "outputs": [],
   "source": [
    "# Set ID\n",
    "set_id = set_widget.value\n",
    "# Reduce data for useful input to data representation\n",
    "df_eventfiles = pd.read_csv(f'{global_path}/{set_id}/eventfiles-{set_id}.csv')\n",
    "df_properties_full = pd.read_csv(f'{global_path}/{set_id}/properties-{set_id}-full.csv')\n",
    "df_properties_full['obsreg_id'] = df_properties_full['obsid'].astype(str) + '_' + df_properties_full['region_id'].astype(str)\n",
    "df_properties_pileup = pd.read_csv(f'{global_path}/{set_id}/properties-{set_id}-pileup.csv')\n",
    "df_properties_pileup['obsreg_id'] = df_properties_pileup['obsid'].astype(str) + '_' + df_properties_pileup['region_id'].astype(str)\n",
    "df_properties = df_properties_full[~df_properties_full['obsreg_id'].isin(df_properties_pileup['obsreg_id'].unique())]\n",
    "\n",
    "df_properties.to_csv(f'{global_path}/{set_id}/properties-{set_id}.csv',index=False)\n",
    "\n"
   ]
  }
 ],
 "metadata": {
  "kernelspec": {
   "display_name": "ciao-4.15",
   "language": "python",
   "name": "python3"
  },
  "language_info": {
   "codemirror_mode": {
    "name": "ipython",
    "version": 3
   },
   "file_extension": ".py",
   "mimetype": "text/x-python",
   "name": "python",
   "nbconvert_exporter": "python",
   "pygments_lexer": "ipython3",
   "version": "3.10.9"
  },
  "orig_nbformat": 4,
  "vscode": {
   "interpreter": {
    "hash": "aa0ed6ea5fdefd83fab7eb4cb6966f67b14a46d682529109a8514cc91561ea32"
   }
  }
 },
 "nbformat": 4,
 "nbformat_minor": 2
}
