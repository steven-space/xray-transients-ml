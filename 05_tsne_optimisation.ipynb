{
 "cells": [
  {
   "attachments": {},
   "cell_type": "markdown",
   "metadata": {},
   "source": [
    "# I. Set Up"
   ]
  },
  {
   "cell_type": "code",
   "execution_count": 2,
   "metadata": {},
   "outputs": [
    {
     "name": "stderr",
     "output_type": "stream",
     "text": [
      "2023-03-26 14:08:21.208050: I tensorflow/core/platform/cpu_feature_guard.cc:193] This TensorFlow binary is optimized with oneAPI Deep Neural Network Library (oneDNN) to use the following CPU instructions in performance-critical operations:  SSE4.1 SSE4.2\n",
      "To enable them in other operations, rebuild TensorFlow with the appropriate compiler flags.\n"
     ]
    },
    {
     "data": {
      "application/vnd.jupyter.widget-view+json": {
       "model_id": "326b60f774f94c0488a6fdc55f2eec23",
       "version_major": 2,
       "version_minor": 0
      },
      "text/plain": [
       "Dropdown(description='Set :', options=('All', 'Bona'), value='All')"
      ]
     },
     "execution_count": 2,
     "metadata": {},
     "output_type": "execute_result"
    }
   ],
   "source": [
    "# PYTHON Imports \n",
    "import pandas as pd\n",
    "pd.options.mode.chained_assignment = None\n",
    "import numpy as np\n",
    "import math\n",
    "import statistics\n",
    "import matplotlib.pyplot as plt\n",
    "from matplotlib.colors import LogNorm\n",
    "from mpl_toolkits.mplot3d import Axes3D\n",
    "from pathlib import Path\n",
    "import glob\n",
    "import os\n",
    "import ipywidgets as widgets\n",
    "from IPython.display import clear_output\n",
    "import sys\n",
    "import time\n",
    "import json\n",
    "from sklearn.manifold import TSNE\n",
    "from sklearn.decomposition import PCA\n",
    "import umap\n",
    "import seaborn as sns\n",
    "import fnmatch\n",
    "from sklearn.manifold import TSNE\n",
    "from sklearn.metrics.pairwise import pairwise_distances\n",
    "import numpy as np\n",
    "from scipy.stats import spearmanr\n",
    "from sklearn.preprocessing import MinMaxScaler\n",
    "from scipy.spatial.distance import pdist, squareform\n",
    "from scipy.stats import spearmanr\n",
    "from scipy.stats import pearsonr\n",
    "from sklearn.neighbors import NearestNeighbors\n",
    "import random\n",
    "import dcor\n",
    "import re\n",
    "# ASTROPHY Imports\n",
    "import astropy \n",
    "from astropy.table import Table\n",
    "from astropy.io import fits\n",
    "from sherpa.astro import ui\n",
    "# CIAO Imports\n",
    "import ciao_contrib.runtool\n",
    "from ciao_contrib.runtool import *\n",
    "# CUSTOM Imports\n",
    "from data_extraction_functions import *\n",
    "from data_exploration_functions import *\n",
    "from data_representation_functions import *\n",
    "\n",
    "# Specify global path\n",
    "global_path = '/Users/steven/Library/Mobile Documents/com~apple~CloudDocs/0-CfA/4-Data/Datasets'\n",
    "global_folders = list_folders_fun(global_path)\n",
    "\n",
    "# Custom object hook to convert lists of lists to NumPy arrays\n",
    "def numpy_hook(obj):\n",
    "    if isinstance(obj, list):\n",
    "        # Check if the list contains sublists (i.e. a matrix)\n",
    "        if isinstance(obj[0], list):\n",
    "            # Convert the list of lists to a NumPy array matrix\n",
    "            return np.array(obj)\n",
    "    # Return all other objects as is\n",
    "    return obj\n",
    "\n",
    "# Select dataset\n",
    "set_widget = widgets.Dropdown(options=global_folders[:],value=global_folders[0],description='Set :',disabled=False); set_widget"
   ]
  },
  {
   "attachments": {},
   "cell_type": "markdown",
   "metadata": {},
   "source": [
    "# II. Load Data"
   ]
  },
  {
   "cell_type": "code",
   "execution_count": 6,
   "metadata": {},
   "outputs": [
    {
     "ename": "IndexError",
     "evalue": "list index out of range",
     "output_type": "error",
     "traceback": [
      "\u001b[0;31m---------------------------------------------------------------------------\u001b[0m",
      "\u001b[0;31mIndexError\u001b[0m                                Traceback (most recent call last)",
      "Cell \u001b[0;32mIn[6], line 6\u001b[0m\n\u001b[1;32m      4\u001b[0m files \u001b[39m=\u001b[39m os\u001b[39m.\u001b[39mlistdir(\u001b[39mf\u001b[39m\u001b[39m'\u001b[39m\u001b[39m{\u001b[39;00mglobal_path\u001b[39m}\u001b[39;00m\u001b[39m/\u001b[39m\u001b[39m{\u001b[39;00mset_id\u001b[39m}\u001b[39;00m\u001b[39m/\u001b[39m\u001b[39m'\u001b[39m)\n\u001b[1;32m      5\u001b[0m input_files \u001b[39m=\u001b[39m [f \u001b[39mfor\u001b[39;00m f \u001b[39min\u001b[39;00m files \u001b[39mif\u001b[39;00m fnmatch\u001b[39m.\u001b[39mfnmatch(f, \u001b[39m'\u001b[39m\u001b[39mhist*nE16*.pkl\u001b[39m\u001b[39m'\u001b[39m)]\n\u001b[0;32m----> 6\u001b[0m input_widget \u001b[39m=\u001b[39m widgets\u001b[39m.\u001b[39mDropdown(options\u001b[39m=\u001b[39minput_files[:],value\u001b[39m=\u001b[39minput_files[\u001b[39m0\u001b[39;49m],description\u001b[39m=\u001b[39m\u001b[39m'\u001b[39m\u001b[39mTSNE File :\u001b[39m\u001b[39m'\u001b[39m,disabled\u001b[39m=\u001b[39m\u001b[39mFalse\u001b[39;00m); input_widget\n",
      "\u001b[0;31mIndexError\u001b[0m: list index out of range"
     ]
    }
   ],
   "source": [
    "# Set ID\n",
    "set_id = set_widget.value\n",
    "# Select Input\n",
    "files = os.listdir(f'{global_path}/{set_id}/')\n",
    "input_files = [f for f in files if fnmatch.fnmatch(f, 'hist*nE16*.pkl')]\n",
    "input_widget = widgets.Dropdown(options=input_files[:],value=input_files[0],description='TSNE File :',disabled=False); input_widget\n"
   ]
  },
  {
   "cell_type": "code",
   "execution_count": null,
   "metadata": {},
   "outputs": [
    {
     "name": "stdout",
     "output_type": "stream",
     "text": [
      "Number of Features:  82283\n",
      "Number of Property Sets:  82283\n",
      "51830 51830\n",
      "2919 15648 8189 1693 991 5970 3340 545 580 2796 1681 318 1649 2898 1741 872\n",
      "Length X: 51830\n",
      "Length Y: 51830\n"
     ]
    },
    {
     "data": {
      "text/html": [
       "<div>\n",
       "<style scoped>\n",
       "    .dataframe tbody tr th:only-of-type {\n",
       "        vertical-align: middle;\n",
       "    }\n",
       "\n",
       "    .dataframe tbody tr th {\n",
       "        vertical-align: top;\n",
       "    }\n",
       "\n",
       "    .dataframe thead th {\n",
       "        text-align: right;\n",
       "    }\n",
       "</style>\n",
       "<table border=\"1\" class=\"dataframe\">\n",
       "  <thead>\n",
       "    <tr style=\"text-align: right;\">\n",
       "      <th></th>\n",
       "      <th>obsreg_id</th>\n",
       "      <th>hard_hm</th>\n",
       "      <th>hard_hs</th>\n",
       "      <th>hard_ms</th>\n",
       "      <th>var_prob_b</th>\n",
       "      <th>var_prob_h</th>\n",
       "      <th>var_prob_m</th>\n",
       "      <th>var_prob_s</th>\n",
       "    </tr>\n",
       "  </thead>\n",
       "  <tbody>\n",
       "    <tr>\n",
       "      <th>1</th>\n",
       "      <td>10004_1</td>\n",
       "      <td>0.398501</td>\n",
       "      <td>0.488445</td>\n",
       "      <td>0.094941</td>\n",
       "      <td>0.524820</td>\n",
       "      <td>0.127010</td>\n",
       "      <td>0.676527</td>\n",
       "      <td>0.485168</td>\n",
       "    </tr>\n",
       "    <tr>\n",
       "      <th>3</th>\n",
       "      <td>10025_72</td>\n",
       "      <td>0.058713</td>\n",
       "      <td>-0.103685</td>\n",
       "      <td>-0.162399</td>\n",
       "      <td>0.105254</td>\n",
       "      <td>0.252282</td>\n",
       "      <td>0.650681</td>\n",
       "      <td>0.283007</td>\n",
       "    </tr>\n",
       "    <tr>\n",
       "      <th>5</th>\n",
       "      <td>10026_72</td>\n",
       "      <td>0.148657</td>\n",
       "      <td>0.103685</td>\n",
       "      <td>-0.048720</td>\n",
       "      <td>0.102169</td>\n",
       "      <td>0.289265</td>\n",
       "      <td>0.587968</td>\n",
       "      <td>0.113789</td>\n",
       "    </tr>\n",
       "    <tr>\n",
       "      <th>11</th>\n",
       "      <td>10037_40</td>\n",
       "      <td>0.028732</td>\n",
       "      <td>0.338538</td>\n",
       "      <td>0.309806</td>\n",
       "      <td>0.119011</td>\n",
       "      <td>0.438140</td>\n",
       "      <td>0.236688</td>\n",
       "      <td>0.551795</td>\n",
       "    </tr>\n",
       "    <tr>\n",
       "      <th>15</th>\n",
       "      <td>10037_82</td>\n",
       "      <td>0.367270</td>\n",
       "      <td>0.808245</td>\n",
       "      <td>0.624610</td>\n",
       "      <td>0.074846</td>\n",
       "      <td>0.234351</td>\n",
       "      <td>0.141653</td>\n",
       "      <td>0.528878</td>\n",
       "    </tr>\n",
       "  </tbody>\n",
       "</table>\n",
       "</div>"
      ],
      "text/plain": [
       "   obsreg_id   hard_hm   hard_hs   hard_ms  var_prob_b  var_prob_h  \\\n",
       "1    10004_1  0.398501  0.488445  0.094941    0.524820    0.127010   \n",
       "3   10025_72  0.058713 -0.103685 -0.162399    0.105254    0.252282   \n",
       "5   10026_72  0.148657  0.103685 -0.048720    0.102169    0.289265   \n",
       "11  10037_40  0.028732  0.338538  0.309806    0.119011    0.438140   \n",
       "15  10037_82  0.367270  0.808245  0.624610    0.074846    0.234351   \n",
       "\n",
       "    var_prob_m  var_prob_s  \n",
       "1     0.676527    0.485168  \n",
       "3     0.650681    0.283007  \n",
       "5     0.587968    0.113789  \n",
       "11    0.236688    0.551795  \n",
       "15    0.141653    0.528878  "
      ]
     },
     "execution_count": 4,
     "metadata": {},
     "output_type": "execute_result"
    }
   ],
   "source": [
    "# Load the DataFrame from the CSV file\n",
    "input_file = input_widget.value\n",
    "# Load histogram dictionary\n",
    "with open(f'{global_path}/{set_id}/{input_file}', 'rb') as f:\n",
    "    hist_dict = pickle.load(f)\n",
    "# Flatten histograms in the dictionary and get IDs\n",
    "ids = hist_dict.keys()\n",
    "histograms = hist_dict.values()\n",
    "features = np.array([np.array(h).flatten() for h in histograms])\n",
    "features[np.isnan(features)] = 0.0\n",
    "# Load properties\n",
    "df_properties_input = pd.read_csv(f'{global_path}/{set_id}/properties-input-{set_id}.csv')\n",
    "df_properties_input = df_properties_input[df_properties_input['obsreg_id'].isin(list(ids))]\n",
    "df_properties = df_properties_input.drop_duplicates('obsreg_id', keep='first').reset_index()\n",
    "\n",
    "# Print eventfiles and properties number of IDs\n",
    "print(\"Number of Features: \", len(features))\n",
    "print(\"Number of Property Sets: \", len(df_properties))\n",
    "\n",
    "# Select only the columns you need as labels from df_properties\n",
    "df_label = df_properties[['obsreg_id','hard_hm', 'hard_hs', 'hard_ms', 'var_prob_b', 'var_prob_h', 'var_prob_m', 'var_prob_s']]\n",
    "mask_nonan = df_label.notna().all(axis=1)\n",
    "index_nonan = list(df_label.notna().all(axis=1).index[df_label.notna().all(axis=1)])\n",
    "df_label = df_label[mask_nonan]\n",
    "ID = df_label['obsreg_id'].values\n",
    "XX = features[(index_nonan),:]\n",
    "df_yy = df_label[['hard_hm', 'hard_hs', 'hard_ms', 'var_prob_b', 'var_prob_h', 'var_prob_m', 'var_prob_s']]\n",
    "YY = df_yy.values\n",
    "print(len(XX),len(YY))\n",
    "# More filters to get reduced dataset\n",
    "reduce = 1\n",
    "df_label1 = df_label.loc[(df_label.var_prob_b < 0.25) & (df_label.var_prob_b >= 0) & (df_label.hard_hs < -0.5) & (df_label.hard_hs >= -1)]\n",
    "df_label1 = df_label1.sample(n=round(len(df_label1)/reduce))\n",
    "df_label2 = df_label.loc[(df_label.var_prob_b < 0.25) & (df_label.var_prob_b >= 0) & (df_label.hard_hs < 0) & (df_label.hard_hs >= -0.5)]\n",
    "df_label2 = df_label2.sample(n=round(len(df_label2)/reduce))\n",
    "df_label3 = df_label.loc[(df_label.var_prob_b < 0.25) & (df_label.var_prob_b >= 0) & (df_label.hard_hs < 0.5) & (df_label.hard_hs >= 0)]\n",
    "df_label3 = df_label3.sample(n=round(len(df_label3)/reduce))\n",
    "df_label4 = df_label.loc[(df_label.var_prob_b < 0.25) & (df_label.var_prob_b >= 0) & (df_label.hard_hs <= 1) & (df_label.hard_hs >= 0.5)]\n",
    "df_label4 = df_label4.sample(n=round(len(df_label4)/reduce))\n",
    "\n",
    "df_label5 = df_label.loc[(df_label.var_prob_b < 0.5) & (df_label.var_prob_b >= 0.25) & (df_label.hard_hs < -0.5) & (df_label.hard_hs >= -1)]\n",
    "df_label5 = df_label5.sample(n=round(len(df_label5)/reduce))\n",
    "df_label6 = df_label.loc[(df_label.var_prob_b < 0.5) & (df_label.var_prob_b >= 0.25) & (df_label.hard_hs < 0) & (df_label.hard_hs >= -0.5)]\n",
    "df_label6 = df_label6.sample(n=round(len(df_label6)/reduce))\n",
    "df_label7 = df_label.loc[(df_label.var_prob_b < 0.5) & (df_label.var_prob_b >= 0.25) & (df_label.hard_hs < 0.5) & (df_label.hard_hs >= 0)]\n",
    "df_label7 = df_label7.sample(n=round(len(df_label7)/reduce))\n",
    "df_label8 = df_label.loc[(df_label.var_prob_b < 0.5) & (df_label.var_prob_b >= 0.25) & (df_label.hard_hs <= 1) & (df_label.hard_hs >= 0.5)]\n",
    "df_label8 = df_label8.sample(n=round(len(df_label8)/reduce))\n",
    "\n",
    "df_label9 = df_label.loc[(df_label.var_prob_b < 0.75) & (df_label.var_prob_b >= 0.5) & (df_label.hard_hs < -0.5) & (df_label.hard_hs >= -1)]\n",
    "df_label9 = df_label9.sample(n=round(len(df_label9)/reduce))\n",
    "df_label10 = df_label.loc[(df_label.var_prob_b < 0.75) & (df_label.var_prob_b >= 0.5) & (df_label.hard_hs < 0) & (df_label.hard_hs >= -0.5)]\n",
    "df_label10 = df_label10.sample(n=round(len(df_label10)/reduce))\n",
    "df_label11 = df_label.loc[(df_label.var_prob_b < 0.75) & (df_label.var_prob_b >= 0.5) & (df_label.hard_hs < 0.5) & (df_label.hard_hs >= 0)]\n",
    "df_label11 = df_label11.sample(n=round(len(df_label11)/reduce))\n",
    "df_label12 = df_label.loc[(df_label.var_prob_b < 0.75) & (df_label.var_prob_b >= 0.5) & (df_label.hard_hs <= 1) & (df_label.hard_hs >= 0.5)]\n",
    "df_label12 = df_label12.sample(n=round(len(df_label12)/reduce))\n",
    "\n",
    "df_label13 = df_label.loc[(df_label.var_prob_b <= 1) & (df_label.var_prob_b >= 0.75) & (df_label.hard_hs < -0.5) & (df_label.hard_hs >= -1)]\n",
    "df_label13 = df_label13.sample(n=round(len(df_label13)/reduce))\n",
    "df_label14 = df_label.loc[(df_label.var_prob_b <= 1) & (df_label.var_prob_b >= 0.75) & (df_label.hard_hs < 0) & (df_label.hard_hs >= -0.5)]\n",
    "df_label14 = df_label14.sample(n=round(len(df_label14)/reduce))\n",
    "df_label15 = df_label.loc[(df_label.var_prob_b <= 1) & (df_label.var_prob_b >= 0.75) & (df_label.hard_hs < 0.5) & (df_label.hard_hs >= 0)]\n",
    "df_label15 = df_label15.sample(n=round(len(df_label15)/reduce))\n",
    "df_label16 = df_label.loc[(df_label.var_prob_b <= 1) & (df_label.var_prob_b >= 0.75) & (df_label.hard_hs <= 1) & (df_label.hard_hs >= 0.5)]\n",
    "df_label16 = df_label16.sample(n=round(len(df_label16)/reduce))\n",
    "\n",
    "print(len(df_label1),len(df_label2),len(df_label3),len(df_label4),len(df_label5),len(df_label6),len(df_label7),len(df_label8),len(df_label9),len(df_label10),len(df_label11),len(df_label12),len(df_label13),len(df_label14),len(df_label15),len(df_label16))\n",
    "# More filters to get reduced dataset\n",
    "df_final_label = pd.concat([df_label1,df_label2, df_label3, df_label4, df_label5, df_label6, df_label7, df_label8, df_label9, df_label10, df_label11, df_label12,df_label13,df_label14,df_label15,df_label16])\n",
    "df_final_label = df_final_label.sort_values('obsreg_id')\n",
    "index_final = list(df_final_label.index)\n",
    "ID = df_final_label['obsreg_id'].values\n",
    "X = features[(index_final),:]\n",
    "# Scale the labels to the same range as the data\n",
    "df_y = df_final_label[['hard_hm', 'hard_hs', 'hard_ms', 'var_prob_b', 'var_prob_h', 'var_prob_m', 'var_prob_s']]\n",
    "Y = df_y.values\n",
    "print('Length X:', len(X))\n",
    "print('Length Y:', len(Y))\n",
    "df_final_label.head()\n"
   ]
  },
  {
   "attachments": {},
   "cell_type": "markdown",
   "metadata": {},
   "source": [
    "# III. PCA Optimisation?"
   ]
  },
  {
   "attachments": {},
   "cell_type": "markdown",
   "metadata": {},
   "source": [
    "Elbow Point (36,6 -> 21 for 2D // 671,12 -> 341/2 (121,12 -> 66/67 for 0.005 and 0.9) ) for 0.005 and 0.95 (NOTE THIS IS ON THE 50000, not all) "
   ]
  },
  {
   "attachments": {},
   "cell_type": "markdown",
   "metadata": {},
   "source": [
    "2D for all (0.005 knee, 0.95 var): Elbow point: 7\n",
    "Number of components to retain 95% variance: 64\n",
    "Avg: 35.5"
   ]
  },
  {
   "attachments": {},
   "cell_type": "markdown",
   "metadata": {},
   "source": [
    "3D for all (0.005 knee, 0.90 var): "
   ]
  },
  {
   "cell_type": "code",
   "execution_count": 40,
   "metadata": {},
   "outputs": [
    {
     "name": "stdout",
     "output_type": "stream",
     "text": [
      "Elbow point: 7\n",
      "Number of components to retain 95% variance: 7\n",
      "Avg: 7.0\n"
     ]
    },
    {
     "data": {
      "image/png": "[encoded data removed]",
      "text/plain": [
       "<Figure size 640x480 with 1 Axes>"
      ]
     },
     "metadata": {},
     "output_type": "display_data"
    },
    {
     "data": {
      "image/png": "[encoded data removed]",
      "text/plain": [
       "<Figure size 640x480 with 1 Axes>"
      ]
     },
     "metadata": {},
     "output_type": "display_data"
    }
   ],
   "source": [
    "pca_model = PCA(100)\n",
    "Xpca = pca_model.fit_transform(features) \n",
    "\n",
    "# identify the elbow point\n",
    "cumulative_var = np.cumsum(pca_model.explained_variance_ratio_)\n",
    "elbow_point = np.argmax(np.diff(cumulative_var) <= 0.005) + 1\n",
    "n_components95 = np.argmax(cumulative_var >= 0.90) + 1\n",
    "avg = (elbow_point  + n_components95)/2\n",
    "print('Elbow point:', elbow_point)\n",
    "print(\"Number of components to retain 95% variance:\", n_components95)\n",
    "print(\"Avg:\", avg)\n",
    "\n",
    "# plot the scree plot\n",
    "ax1 = plt.plot(np.arange(1, pca_model.n_components_ + 1), pca_model.explained_variance_ratio_, 'o-')\n",
    "plt.xlabel('Principal Component')\n",
    "plt.ylabel('Proportion of Variance Explained')\n",
    "plt.title('Scree Plot')\n",
    "plt.grid(False) \n",
    "plt.axvline(x=elbow_point, color='r')\n",
    "plt.axvline(x=n_components95, color='b')\n",
    "plt.axvline(x=avg, color='g')\n",
    "plt.show()\n",
    "\n",
    "\n",
    "# plot the cumulative proportion of variance explained\n",
    "ax2 = plt.plot(np.arange(1, pca_model.n_components_ + 1), np.cumsum(pca_model.explained_variance_ratio_), 'o-')\n",
    "plt.xlabel('Number of Principal Components')\n",
    "plt.ylabel('Cumulative Proportion of Variance Explained')\n",
    "plt.title('Scree Plot')\n",
    "plt.grid(False) \n",
    "plt.axvline(x=elbow_point, color='r')\n",
    "plt.axvline(x=n_components95, color='b')\n",
    "plt.axvline(x=avg, color='g')\n",
    "plt.show()\n"
   ]
  },
  {
   "attachments": {},
   "cell_type": "markdown",
   "metadata": {},
   "source": [
    "Run PCA "
   ]
  },
  {
   "cell_type": "code",
   "execution_count": 5,
   "metadata": {},
   "outputs": [],
   "source": [
    "#Run PCA with chosen n\n",
    "n_pca = 36\n",
    "pca_model = PCA(n_pca)\n",
    "pca_out = pca_model.fit_transform(XX) \n",
    "# Save PCA Output\n",
    "input_file = input_widget.value\n",
    "data_rep = input_file.split(\".pkl\")[0]\n",
    "with open(f'{global_path}/{set_id}/pca-{set_id}-{data_rep}-PCA{n_pca}.pkl', 'wb') as f:\n",
    "    pickle.dump(pca_out , f)\n"
   ]
  },
  {
   "attachments": {},
   "cell_type": "markdown",
   "metadata": {},
   "source": [
    "# III. TSNE Runs"
   ]
  },
  {
   "cell_type": "code",
   "execution_count": 4,
   "metadata": {},
   "outputs": [
    {
     "data": {
      "application/vnd.jupyter.widget-view+json": {
       "model_id": "ac7fceacf9364c55ba9c0f463572349d",
       "version_major": 2,
       "version_minor": 0
      },
      "text/plain": [
       "Dropdown(description='PCA File :', options=('pca-All-hist2D-All-nE16-nt24-normnone-PCA36.pkl',), value='pca-Al…"
      ]
     },
     "execution_count": 4,
     "metadata": {},
     "output_type": "execute_result"
    }
   ],
   "source": [
    "# Load PCA Output\n",
    "files = os.listdir(f'{global_path}/{set_id}/')\n",
    "pca_files = [f for f in files if fnmatch.fnmatch(f, 'pca*36*')]\n",
    "pca_widget = widgets.Dropdown(options=pca_files[:],value=pca_files[0],description='PCA File :',disabled=False); pca_widget"
   ]
  },
  {
   "cell_type": "code",
   "execution_count": 63,
   "metadata": {},
   "outputs": [
    {
     "name": "stdout",
     "output_type": "stream",
     "text": [
      "TSNE Done\n",
      "(1343148535,)\n",
      "pdist Done\n",
      "Saved as: dX-(0,4)-All-hist2D-All-nE16-nt24-normnone-lr25-perp50.pkl\n",
      "TSNE Done\n",
      "(1343148535,)\n",
      "pdist Done\n",
      "Saved as: dX-(0,5)-All-hist2D-All-nE16-nt24-normnone-lr25-perp60.pkl\n",
      "TSNE Done\n",
      "(1343148535,)\n",
      "pdist Done\n",
      "Saved as: dX-(0,6)-All-hist2D-All-nE16-nt24-normnone-lr25-perp70.pkl\n",
      "TSNE Done\n",
      "(1343148535,)\n",
      "pdist Done\n",
      "Saved as: dX-(0,7)-All-hist2D-All-nE16-nt24-normnone-lr25-perp80.pkl\n",
      "TSNE Done\n",
      "(1343148535,)\n",
      "pdist Done\n",
      "Saved as: dX-(0,8)-All-hist2D-All-nE16-nt24-normnone-lr25-perp90.pkl\n",
      "TSNE Done\n",
      "(1343148535,)\n",
      "pdist Done\n",
      "Saved as: dX-(0,9)-All-hist2D-All-nE16-nt24-normnone-lr25-perp100.pkl\n",
      "TSNE Done\n",
      "(1343148535,)\n",
      "pdist Done\n",
      "Saved as: dX-(1,4)-All-hist2D-All-nE16-nt24-normnone-lr50-perp50.pkl\n",
      "TSNE Done\n",
      "(1343148535,)\n",
      "pdist Done\n",
      "Saved as: dX-(1,5)-All-hist2D-All-nE16-nt24-normnone-lr50-perp60.pkl\n",
      "TSNE Done\n",
      "(1343148535,)\n",
      "pdist Done\n",
      "Saved as: dX-(1,6)-All-hist2D-All-nE16-nt24-normnone-lr50-perp70.pkl\n",
      "TSNE Done\n",
      "(1343148535,)\n",
      "pdist Done\n",
      "Saved as: dX-(1,7)-All-hist2D-All-nE16-nt24-normnone-lr50-perp80.pkl\n",
      "TSNE Done\n",
      "(1343148535,)\n",
      "pdist Done\n",
      "Saved as: dX-(1,8)-All-hist2D-All-nE16-nt24-normnone-lr50-perp90.pkl\n",
      "TSNE Done\n",
      "(1343148535,)\n",
      "pdist Done\n",
      "Saved as: dX-(1,9)-All-hist2D-All-nE16-nt24-normnone-lr50-perp100.pkl\n",
      "TSNE Done\n",
      "(1343148535,)\n",
      "pdist Done\n",
      "Saved as: dX-(2,4)-All-hist2D-All-nE16-nt24-normnone-lr75-perp50.pkl\n",
      "TSNE Done\n",
      "(1343148535,)\n",
      "pdist Done\n",
      "Saved as: dX-(2,5)-All-hist2D-All-nE16-nt24-normnone-lr75-perp60.pkl\n",
      "TSNE Done\n",
      "(1343148535,)\n",
      "pdist Done\n",
      "Saved as: dX-(2,6)-All-hist2D-All-nE16-nt24-normnone-lr75-perp70.pkl\n",
      "TSNE Done\n",
      "(1343148535,)\n",
      "pdist Done\n",
      "Saved as: dX-(2,7)-All-hist2D-All-nE16-nt24-normnone-lr75-perp80.pkl\n",
      "TSNE Done\n",
      "(1343148535,)\n",
      "pdist Done\n",
      "Saved as: dX-(2,8)-All-hist2D-All-nE16-nt24-normnone-lr75-perp90.pkl\n",
      "TSNE Done\n",
      "(1343148535,)\n",
      "pdist Done\n",
      "Saved as: dX-(2,9)-All-hist2D-All-nE16-nt24-normnone-lr75-perp100.pkl\n",
      "TSNE Done\n",
      "(1343148535,)\n",
      "pdist Done\n",
      "Saved as: dX-(3,4)-All-hist2D-All-nE16-nt24-normnone-lr100-perp50.pkl\n",
      "TSNE Done\n",
      "(1343148535,)\n",
      "pdist Done\n",
      "Saved as: dX-(3,5)-All-hist2D-All-nE16-nt24-normnone-lr100-perp60.pkl\n",
      "TSNE Done\n",
      "(1343148535,)\n",
      "pdist Done\n",
      "Saved as: dX-(3,6)-All-hist2D-All-nE16-nt24-normnone-lr100-perp70.pkl\n",
      "TSNE Done\n",
      "(1343148535,)\n",
      "pdist Done\n",
      "Saved as: dX-(3,7)-All-hist2D-All-nE16-nt24-normnone-lr100-perp80.pkl\n",
      "TSNE Done\n",
      "(1343148535,)\n",
      "pdist Done\n",
      "Saved as: dX-(3,8)-All-hist2D-All-nE16-nt24-normnone-lr100-perp90.pkl\n",
      "TSNE Done\n",
      "(1343148535,)\n",
      "pdist Done\n",
      "Saved as: dX-(3,9)-All-hist2D-All-nE16-nt24-normnone-lr100-perp100.pkl\n",
      "TSNE Done\n",
      "(1343148535,)\n",
      "pdist Done\n",
      "Saved as: dX-(4,4)-All-hist2D-All-nE16-nt24-normnone-lr125-perp50.pkl\n",
      "TSNE Done\n",
      "(1343148535,)\n",
      "pdist Done\n",
      "Saved as: dX-(4,5)-All-hist2D-All-nE16-nt24-normnone-lr125-perp60.pkl\n",
      "TSNE Done\n",
      "(1343148535,)\n",
      "pdist Done\n",
      "Saved as: dX-(4,6)-All-hist2D-All-nE16-nt24-normnone-lr125-perp70.pkl\n",
      "TSNE Done\n",
      "(1343148535,)\n",
      "pdist Done\n",
      "Saved as: dX-(4,7)-All-hist2D-All-nE16-nt24-normnone-lr125-perp80.pkl\n",
      "TSNE Done\n",
      "(1343148535,)\n",
      "pdist Done\n",
      "Saved as: dX-(4,8)-All-hist2D-All-nE16-nt24-normnone-lr125-perp90.pkl\n",
      "TSNE Done\n",
      "(1343148535,)\n",
      "pdist Done\n",
      "Saved as: dX-(4,9)-All-hist2D-All-nE16-nt24-normnone-lr125-perp100.pkl\n",
      "TSNE Done\n",
      "(1343148535,)\n",
      "pdist Done\n",
      "Saved as: dX-(5,4)-All-hist2D-All-nE16-nt24-normnone-lr150-perp50.pkl\n",
      "TSNE Done\n",
      "(1343148535,)\n",
      "pdist Done\n",
      "Saved as: dX-(5,5)-All-hist2D-All-nE16-nt24-normnone-lr150-perp60.pkl\n",
      "TSNE Done\n",
      "(1343148535,)\n",
      "pdist Done\n",
      "Saved as: dX-(5,6)-All-hist2D-All-nE16-nt24-normnone-lr150-perp70.pkl\n",
      "TSNE Done\n",
      "(1343148535,)\n",
      "pdist Done\n",
      "Saved as: dX-(5,7)-All-hist2D-All-nE16-nt24-normnone-lr150-perp80.pkl\n",
      "TSNE Done\n",
      "(1343148535,)\n",
      "pdist Done\n",
      "Saved as: dX-(5,8)-All-hist2D-All-nE16-nt24-normnone-lr150-perp90.pkl\n",
      "TSNE Done\n",
      "(1343148535,)\n",
      "pdist Done\n",
      "Saved as: dX-(5,9)-All-hist2D-All-nE16-nt24-normnone-lr150-perp100.pkl\n",
      "TSNE Done\n",
      "(1343148535,)\n",
      "pdist Done\n",
      "Saved as: dX-(6,4)-All-hist2D-All-nE16-nt24-normnone-lr175-perp50.pkl\n",
      "TSNE Done\n",
      "(1343148535,)\n",
      "pdist Done\n",
      "Saved as: dX-(6,5)-All-hist2D-All-nE16-nt24-normnone-lr175-perp60.pkl\n",
      "TSNE Done\n",
      "(1343148535,)\n",
      "pdist Done\n"
     ]
    },
    {
     "ename": "OSError",
     "evalue": "[Errno 28] No space left on device",
     "output_type": "error",
     "traceback": [
      "\u001b[0;31m---------------------------------------------------------------------------\u001b[0m",
      "\u001b[0;31mOSError\u001b[0m                                   Traceback (most recent call last)",
      "Cell \u001b[0;32mIn[63], line 33\u001b[0m\n\u001b[1;32m     31\u001b[0m pca_rep \u001b[39m=\u001b[39m pca_file\u001b[39m.\u001b[39msplit(\u001b[39m\"\u001b[39m\u001b[39m.pkl\u001b[39m\u001b[39m\"\u001b[39m)[\u001b[39m0\u001b[39m]\n\u001b[1;32m     32\u001b[0m \u001b[39mwith\u001b[39;00m \u001b[39mopen\u001b[39m(\u001b[39mf\u001b[39m\u001b[39m'\u001b[39m\u001b[39m{\u001b[39;00mglobal_path\u001b[39m}\u001b[39;00m\u001b[39m/\u001b[39m\u001b[39m{\u001b[39;00mset_id\u001b[39m}\u001b[39;00m\u001b[39m/dX-(\u001b[39m\u001b[39m{\u001b[39;00mlr_ix\u001b[39m}\u001b[39;00m\u001b[39m,\u001b[39m\u001b[39m{\u001b[39;00mperp_ix\u001b[39m}\u001b[39;00m\u001b[39m)-\u001b[39m\u001b[39m{\u001b[39;00mset_id\u001b[39m}\u001b[39;00m\u001b[39m-\u001b[39m\u001b[39m{\u001b[39;00mdata_rep\u001b[39m}\u001b[39;00m\u001b[39m-lr\u001b[39m\u001b[39m{\u001b[39;00mlearn_rate\u001b[39m}\u001b[39;00m\u001b[39m-perp\u001b[39m\u001b[39m{\u001b[39;00mperp\u001b[39m}\u001b[39;00m\u001b[39m.pkl\u001b[39m\u001b[39m'\u001b[39m, \u001b[39m'\u001b[39m\u001b[39mwb\u001b[39m\u001b[39m'\u001b[39m) \u001b[39mas\u001b[39;00m f:\n\u001b[0;32m---> 33\u001b[0m     pickle\u001b[39m.\u001b[39;49mdump(dX, f)\n\u001b[1;32m     34\u001b[0m \u001b[39mprint\u001b[39m(\u001b[39mf\u001b[39m\u001b[39m'\u001b[39m\u001b[39mSaved as: dX-(\u001b[39m\u001b[39m{\u001b[39;00mlr_ix\u001b[39m}\u001b[39;00m\u001b[39m,\u001b[39m\u001b[39m{\u001b[39;00mperp_ix\u001b[39m}\u001b[39;00m\u001b[39m)-\u001b[39m\u001b[39m{\u001b[39;00mset_id\u001b[39m}\u001b[39;00m\u001b[39m-\u001b[39m\u001b[39m{\u001b[39;00mdata_rep\u001b[39m}\u001b[39;00m\u001b[39m-lr\u001b[39m\u001b[39m{\u001b[39;00mlearn_rate\u001b[39m}\u001b[39;00m\u001b[39m-perp\u001b[39m\u001b[39m{\u001b[39;00mperp\u001b[39m}\u001b[39;00m\u001b[39m.pkl\u001b[39m\u001b[39m'\u001b[39m)\n\u001b[1;32m     35\u001b[0m beep\u001b[39m.\u001b[39mbeep(sound\u001b[39m=\u001b[39m\u001b[39m1\u001b[39m)\n",
      "\u001b[0;31mOSError\u001b[0m: [Errno 28] No space left on device"
     ]
    }
   ],
   "source": [
    "from pydub import AudioSegment\n",
    "from pydub.playback import play\n",
    "import math\n",
    "import beepy as beep\n",
    "\n",
    "\n",
    "pca_file = pca_widget.value\n",
    "with open(f'{global_path}/{set_id}/{pca_file}', 'rb') as f:\n",
    "    pca_out = pickle.load(f)\n",
    "learning_rates = [25, 50, 75, 100, 125,150,175,200,225,250]\n",
    "perplexities = [10,20,30,40,50,60,70,80,90,100]\n",
    "\n",
    "with open(f'{global_path}/{set_id}/dY.pkl', 'rb') as f:\n",
    "        dY = pickle.load(f)\n",
    "\n",
    "performance_matrix1 = np.zeros((len(learning_rates), len(perplexities)))\n",
    "performance_matrix1p = np.zeros((len(learning_rates), len(perplexities)))\n",
    "performance_matrix2 = np.zeros((len(learning_rates), len(perplexities)))\n",
    "\n",
    "# TSNE Setting\n",
    "n_comp = 2\n",
    "early_exag = 1\n",
    "iterations = 2000\n",
    "# Counter\n",
    "total_count = len(learning_rates) * len(perplexities)\n",
    "counter = 0\n",
    "for lr_ix in range(len(learning_rates)):\n",
    "    for perp_ix in range(4, len(perplexities)):\n",
    "        learn_rate = learning_rates[lr_ix]\n",
    "        perp = perplexities[perp_ix]\n",
    "        # Define TSNE Model\n",
    "        tsne_model = TSNE(n_components = n_comp , perplexity = perp, learning_rate = learn_rate, n_iter = iterations, early_exaggeration = early_exag, init='random')\n",
    "        # Run TSNE Model on Data\n",
    "        tsne_out = tsne_model.fit_transform(pca_out)\n",
    "        print('TSNE Done')\n",
    "        dX = pdist(tsne_out,'euclidean')\n",
    "        print(dX.shape)\n",
    "        print('pdist Done')\n",
    "        # Save TSNE Output\n",
    "        pca_rep = pca_file.split(\".pkl\")[0]\n",
    "        with open(f'{global_path}/{set_id}/dX-({lr_ix},{perp_ix})-{set_id}-{data_rep}-lr{learn_rate}-perp{perp}.pkl', 'wb') as f:\n",
    "            pickle.dump(dX, f)\n",
    "        print(f'Saved as: dX-({lr_ix},{perp_ix})-{set_id}-{data_rep}-lr{learn_rate}-perp{perp}.pkl')\n",
    "        beep.beep(sound=1)\n",
    "\n",
    "# lr_ix = 9\n",
    "# perp_ix = 3\n",
    "# learn_rate = learning_rates[lr_ix]\n",
    "# perp = perplexities[perp_ix]\n",
    "# early_exag = 1\n",
    "# iterations = 2000\n",
    "\n",
    "# # Define TSNE Model\n",
    "# tsne_model = TSNE(n_components = n_comp , perplexity = perp, learning_rate = learn_rate, n_iter = iterations, early_exaggeration = early_exag, init='random')\n",
    "# # Run TSNE Model on Data\n",
    "# tsne_out = tsne_model.fit_transform(pca_out)\n",
    "# print('TSNE Done')\n",
    "# dX = pdist(tsne_out,'euclidean')\n",
    "# print(dX.shape)\n",
    "# print('pdist Done')\n",
    "\n",
    "# # Save TSNE Output\n",
    "# pca_rep = pca_file.split(\".pkl\")[0]\n",
    "# with open(f'{global_path}/{set_id}/dX-({lr_ix},{perp_ix})-{set_id}-{data_rep}-lr{learn_rate}-perp{perp}.pkl', 'wb') as f:\n",
    "#     pickle.dump(dX, f)\n",
    "# print(f'Saved as: dX-({lr_ix},{perp_ix})-{set_id}-{data_rep}-lr{learn_rate}-perp{perp}.pkl')\n",
    "# beep.beep(sound=1)\n"
   ]
  },
  {
   "attachments": {},
   "cell_type": "markdown",
   "metadata": {},
   "source": [
    "# III. TSNE Optimsation"
   ]
  },
  {
   "cell_type": "code",
   "execution_count": 5,
   "metadata": {},
   "outputs": [
    {
     "data": {
      "application/vnd.jupyter.widget-view+json": {
       "model_id": "1e79cb8669234fe6ac76ca58bc12d618",
       "version_major": 2,
       "version_minor": 0
      },
      "text/plain": [
       "SelectMultiple(description='dX Files : ', index=(0, 1, 2, 3, 4, 5, 6, 7, 8, 9, 10, 11, 12, 13, 14, 15, 16, 17,…"
      ]
     },
     "execution_count": 5,
     "metadata": {},
     "output_type": "execute_result"
    }
   ],
   "source": [
    "files = os.listdir(f'{global_path}/{set_id}/')\n",
    "dX_files = [f for f in files if fnmatch.fnmatch(f, 'dX-(*nE16*')]\n",
    "dX_widget = widgets.SelectMultiple(options=dX_files[:],value=dX_files[:], description='dX Files : ', disabled=False); dX_widget"
   ]
  },
  {
   "attachments": {},
   "cell_type": "markdown",
   "metadata": {},
   "source": [
    "Y distance..."
   ]
  },
  {
   "cell_type": "code",
   "execution_count": 1,
   "metadata": {},
   "outputs": [
    {
     "ename": "NameError",
     "evalue": "name 'np' is not defined",
     "output_type": "error",
     "traceback": [
      "\u001b[0;31m---------------------------------------------------------------------------\u001b[0m",
      "\u001b[0;31mNameError\u001b[0m                                 Traceback (most recent call last)",
      "Cell \u001b[0;32mIn[1], line 2\u001b[0m\n\u001b[1;32m      1\u001b[0m \u001b[39m# Compute the inverse covariance matrix\u001b[39;00m\n\u001b[0;32m----> 2\u001b[0m covariance_matrix \u001b[39m=\u001b[39m np\u001b[39m.\u001b[39mcov(YY, rowvar\u001b[39m=\u001b[39m\u001b[39mFalse\u001b[39;00m)\n\u001b[1;32m      3\u001b[0m inverse_covariance_matrix \u001b[39m=\u001b[39m np\u001b[39m.\u001b[39mlinalg\u001b[39m.\u001b[39minv(covariance_matrix)\n\u001b[1;32m      4\u001b[0m \u001b[39m# Compute the Mahalanobis distance matrix for X using pdist\u001b[39;00m\n",
      "\u001b[0;31mNameError\u001b[0m: name 'np' is not defined"
     ]
    }
   ],
   "source": [
    "# Compute the inverse covariance matrix\n",
    "covariance_matrix = np.cov(YY, rowvar=False)\n",
    "inverse_covariance_matrix = np.linalg.inv(covariance_matrix)\n",
    "# Compute the Mahalanobis distance matrix for X using pdist\n",
    "dY = pdist(YY, 'mahalanobis', VI=inverse_covariance_matrix)\n",
    "print(dY.shape)\n",
    "\n",
    "with open(f'{global_path}/{set_id}/dY.pkl', 'wb') as f:\n",
    "    pickle.dump(dY, f)\n"
   ]
  },
  {
   "cell_type": "code",
   "execution_count": 7,
   "metadata": {},
   "outputs": [
    {
     "name": "stdout",
     "output_type": "stream",
     "text": [
      "dX-(0,0)-All-hist2D-All-nE16-nt24-normnone-lr25-perp10.pkl\n"
     ]
    },
    {
     "ename": "EOFError",
     "evalue": "Ran out of input",
     "output_type": "error",
     "traceback": [
      "\u001b[0;31m---------------------------------------------------------------------------\u001b[0m",
      "\u001b[0;31mEOFError\u001b[0m                                  Traceback (most recent call last)",
      "Cell \u001b[0;32mIn[7], line 19\u001b[0m\n\u001b[1;32m     17\u001b[0m \u001b[39mprint\u001b[39m(dX_file)\n\u001b[1;32m     18\u001b[0m \u001b[39mwith\u001b[39;00m \u001b[39mopen\u001b[39m(\u001b[39mf\u001b[39m\u001b[39m'\u001b[39m\u001b[39m{\u001b[39;00mglobal_path\u001b[39m}\u001b[39;00m\u001b[39m/\u001b[39m\u001b[39m{\u001b[39;00mset_id\u001b[39m}\u001b[39;00m\u001b[39m/\u001b[39m\u001b[39m{\u001b[39;00mdX_file\u001b[39m}\u001b[39;00m\u001b[39m'\u001b[39m, \u001b[39m'\u001b[39m\u001b[39mrb\u001b[39m\u001b[39m'\u001b[39m) \u001b[39mas\u001b[39;00m f:\n\u001b[0;32m---> 19\u001b[0m     dX \u001b[39m=\u001b[39m pickle\u001b[39m.\u001b[39;49mload(f)\n\u001b[1;32m     20\u001b[0m \u001b[39m# Define a regular expression pattern to match \"(A,B)\"\u001b[39;00m\n\u001b[1;32m     21\u001b[0m pattern \u001b[39m=\u001b[39m \u001b[39mr\u001b[39m\u001b[39m\"\u001b[39m\u001b[39m\\\u001b[39m\u001b[39m((\u001b[39m\u001b[39m\\\u001b[39m\u001b[39md+),(\u001b[39m\u001b[39m\\\u001b[39m\u001b[39md+)\u001b[39m\u001b[39m\\\u001b[39m\u001b[39m)\u001b[39m\u001b[39m\"\u001b[39m\n",
      "\u001b[0;31mEOFError\u001b[0m: Ran out of input"
     ]
    }
   ],
   "source": [
    "# Load the DataFrame from the CSV file\n",
    "learning_rates = [25, 50, 75, 100, 125]#,150,175,200,225,250]\n",
    "perplexities = [10,20,30,40,50,60]#,70,80,90,100]\n",
    "\n",
    "total_count = len(learning_rates) * len(perplexities)\n",
    "counter = 0\n",
    "\n",
    "with open(f'{global_path}/{set_id}/dY.pkl', 'rb') as f:\n",
    "        dY = pickle.load(f)\n",
    "\n",
    "performance_matrix1 = np.zeros((len(learning_rates), len(perplexities)))\n",
    "performance_matrix1p = np.zeros((len(learning_rates), len(perplexities)))\n",
    "performance_matrix2 = np.zeros((len(learning_rates), len(perplexities)))\n",
    "\n",
    "dX_files = sorted(dX_widget.value)\n",
    "for dX_file in dX_files:\n",
    "    print(dX_file)\n",
    "    with open(f'{global_path}/{set_id}/{dX_file}', 'rb') as f:\n",
    "        dX = pickle.load(f)\n",
    "    # Define a regular expression pattern to match \"(A,B)\"\n",
    "    pattern = r\"\\((\\d+),(\\d+)\\)\"\n",
    "    match = re.search(pattern, dX_file)\n",
    "    i = match.group(1)\n",
    "    j = match.group(2)\n",
    "    # Performance\n",
    "    performance_metric1, p1 = spearmanr(dX,dY)\n",
    "    performance_metric2 = dcor.distance_correlation(dX,dY)\n",
    "\n",
    "    performance_matrix1[i,j] = performance_metric1 \n",
    "    performance_matrix1p[i,j] = p1\n",
    "    performance_matrix2[i,j] = performance_metric2 \n",
    "\n",
    "    print(performance_metric1,p1,performance_metric2)\n",
    "\n",
    "    counter = counter+1\n",
    "    clear_output(wait=True)\n",
    "    print(f'Counter: {counter} of {total_count}')\n",
    "    print(f'DONE!!!')\n",
    "\n",
    "    # Save TSNE Output\n",
    "    pca_rep = pca_file.split(\".pkl\")[0]\n",
    "    with open(f'{global_path}/{set_id}/performance1-{set_id}-{pca_rep}-lr({i})-pp({j})-2D.pkl', 'wb') as f:\n",
    "        pickle.dump(performance_matrix1, f)\n",
    "    with open(f'{global_path}/{set_id}/performance1p-{set_id}-{pca_rep}-lr({i})-pp({j})-2D.pkl', 'wb') as f:\n",
    "        pickle.dump(performance_matrix1p, f)\n",
    "    with open(f'{global_path}/{set_id}/performance2-{set_id}-{pca_rep}-lr({i})-pp({j})-2D.pkl', 'wb') as f:\n",
    "        pickle.dump(performance_matrix2, f)\n"
   ]
  },
  {
   "cell_type": "code",
   "execution_count": null,
   "metadata": {},
   "outputs": [],
   "source": [
    "# Select Performance Matrix\n",
    "files = os.listdir(f'{global_path}/{set_id}/')\n",
    "perf_files = [f for f in files if fnmatch.fnmatch(f, 'perfmatrix*none*.pkl')]\n",
    "perf_widget = widgets.Dropdown(options=perf_files[:],value=perf_files[0],description='Performance Matrix :',disabled=False); perf_widget"
   ]
  },
  {
   "cell_type": "code",
   "execution_count": null,
   "metadata": {},
   "outputs": [],
   "source": [
    "# load the matrix from the file\n",
    "perf_string = perf_widget.value\n",
    "parts_string = perf_string .split('-')\n",
    "lr = 'learn-' + '-'.join(parts_string[1:])\n",
    "perp = 'perp-' + '-'.join(parts_string[1:])\n",
    "with open(f'{global_path}/{set_id}/{perf_string }', 'rb') as f:\n",
    "    performance_matrix = pickle.load(f)\n",
    "with open(f'{global_path}/{set_id}/{lr}', 'rb') as f:\n",
    "    learning_rates = pickle.load(f)\n",
    "with open(f'{global_path}/{set_id}/{perp}', 'rb') as f:\n",
    "    perplexities = pickle.load(f)\n",
    "\n",
    "fig, ax = plt.subplots()\n",
    "# Define Font Settings\n",
    "plt.rcParams.update({'font.size': 10})\n",
    "plt.rcParams['font.monospace'] = \"Courier\"\n",
    "plt.rcParams[\"font.family\"] = \"monospace\"\n",
    "\n",
    "im = ax.imshow(performance_matrix, cmap='Spectral')\n",
    "ax.set_yticks(np.arange(len(learning_rates)),labels = learning_rates)\n",
    "ax.set_ylabel('learning_rate')\n",
    "ax.set_xticks(np.arange(len(perplexities)), labels = perplexities)\n",
    "ax.set_xlabel('perplexity')\n",
    "ax.grid(False) \n",
    "\n",
    "cbar = ax.figure.colorbar(im, ax=ax)\n",
    "cbar.ax.set_ylabel(\"performance_metric\")\n",
    "# Loop over data dimensions and create text annotations.\n",
    "for i in range(len(learning_rates)):\n",
    "    for j in range(len(perplexities)):\n",
    "        text = ax.text(j, i, round(performance_matrix[i, j],2),\n",
    "                       ha=\"center\", va=\"center\", color=\"w\")\n",
    "        "
   ]
  }
 ],
 "metadata": {
  "kernelspec": {
   "display_name": "ciao-4.15",
   "language": "python",
   "name": "python3"
  },
  "language_info": {
   "codemirror_mode": {
    "name": "ipython",
    "version": 3
   },
   "file_extension": ".py",
   "mimetype": "text/x-python",
   "name": "python",
   "nbconvert_exporter": "python",
   "pygments_lexer": "ipython3",
   "version": "3.10.9"
  },
  "orig_nbformat": 4,
  "vscode": {
   "interpreter": {
    "hash": "aa0ed6ea5fdefd83fab7eb4cb6966f67b14a46d682529109a8514cc91561ea32"
   }
  }
 },
 "nbformat": 4,
 "nbformat_minor": 2
}
